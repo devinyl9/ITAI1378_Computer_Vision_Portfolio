{
 "cells": [
  {
   "cell_type": "code",
   "execution_count": 206,
   "id": "c041126c-664f-491d-a5fd-8f78be978c33",
   "metadata": {
    "scrolled": true
   },
   "outputs": [
    {
     "name": "stdout",
     "output_type": "stream",
     "text": [
      "Requirement already satisfied: numpy in /anaconda/envs/azureml_py38/lib/python3.10/site-packages (1.23.5)\n",
      "Requirement already satisfied: tensorflow in /anaconda/envs/azureml_py38/lib/python3.10/site-packages (2.17.0)\n",
      "Requirement already satisfied: opt-einsum>=2.3.2 in /anaconda/envs/azureml_py38/lib/python3.10/site-packages (from tensorflow) (3.3.0)\n",
      "Requirement already satisfied: keras>=3.2.0 in /anaconda/envs/azureml_py38/lib/python3.10/site-packages (from tensorflow) (3.5.0)\n",
      "Requirement already satisfied: six>=1.12.0 in /anaconda/envs/azureml_py38/lib/python3.10/site-packages (from tensorflow) (1.16.0)\n",
      "Requirement already satisfied: flatbuffers>=24.3.25 in /anaconda/envs/azureml_py38/lib/python3.10/site-packages (from tensorflow) (24.3.25)\n",
      "Requirement already satisfied: h5py>=3.10.0 in /anaconda/envs/azureml_py38/lib/python3.10/site-packages (from tensorflow) (3.11.0)\n",
      "Requirement already satisfied: google-pasta>=0.1.1 in /anaconda/envs/azureml_py38/lib/python3.10/site-packages (from tensorflow) (0.2.0)\n",
      "Requirement already satisfied: setuptools in /anaconda/envs/azureml_py38/lib/python3.10/site-packages (from tensorflow) (68.0.0)\n",
      "Requirement already satisfied: wrapt>=1.11.0 in /anaconda/envs/azureml_py38/lib/python3.10/site-packages (from tensorflow) (1.14.1)\n",
      "Requirement already satisfied: termcolor>=1.1.0 in /anaconda/envs/azureml_py38/lib/python3.10/site-packages (from tensorflow) (2.4.0)\n",
      "Requirement already satisfied: gast!=0.5.0,!=0.5.1,!=0.5.2,>=0.2.1 in /anaconda/envs/azureml_py38/lib/python3.10/site-packages (from tensorflow) (0.6.0)\n",
      "Requirement already satisfied: grpcio<2.0,>=1.24.3 in /anaconda/envs/azureml_py38/lib/python3.10/site-packages (from tensorflow) (1.65.4)\n",
      "Requirement already satisfied: packaging in /anaconda/envs/azureml_py38/lib/python3.10/site-packages (from tensorflow) (24.1)\n",
      "Requirement already satisfied: numpy<2.0.0,>=1.23.5 in /anaconda/envs/azureml_py38/lib/python3.10/site-packages (from tensorflow) (1.23.5)\n",
      "Requirement already satisfied: ml-dtypes<0.5.0,>=0.3.1 in /anaconda/envs/azureml_py38/lib/python3.10/site-packages (from tensorflow) (0.4.1)\n",
      "Requirement already satisfied: absl-py>=1.0.0 in /anaconda/envs/azureml_py38/lib/python3.10/site-packages (from tensorflow) (2.1.0)\n",
      "Requirement already satisfied: tensorflow-io-gcs-filesystem>=0.23.1 in /anaconda/envs/azureml_py38/lib/python3.10/site-packages (from tensorflow) (0.37.1)\n",
      "Requirement already satisfied: astunparse>=1.6.0 in /anaconda/envs/azureml_py38/lib/python3.10/site-packages (from tensorflow) (1.6.3)\n",
      "Requirement already satisfied: protobuf!=4.21.0,!=4.21.1,!=4.21.2,!=4.21.3,!=4.21.4,!=4.21.5,<5.0.0dev,>=3.20.3 in /anaconda/envs/azureml_py38/lib/python3.10/site-packages (from tensorflow) (3.20.3)\n",
      "Requirement already satisfied: libclang>=13.0.0 in /anaconda/envs/azureml_py38/lib/python3.10/site-packages (from tensorflow) (18.1.1)\n",
      "Requirement already satisfied: typing-extensions>=3.6.6 in /anaconda/envs/azureml_py38/lib/python3.10/site-packages (from tensorflow) (4.12.2)\n",
      "Requirement already satisfied: tensorboard<2.18,>=2.17 in /anaconda/envs/azureml_py38/lib/python3.10/site-packages (from tensorflow) (2.17.1)\n",
      "Requirement already satisfied: requests<3,>=2.21.0 in /anaconda/envs/azureml_py38/lib/python3.10/site-packages (from tensorflow) (2.32.3)\n",
      "Requirement already satisfied: wheel<1.0,>=0.23.0 in /anaconda/envs/azureml_py38/lib/python3.10/site-packages (from astunparse>=1.6.0->tensorflow) (0.41.2)\n",
      "Requirement already satisfied: optree in /anaconda/envs/azureml_py38/lib/python3.10/site-packages (from keras>=3.2.0->tensorflow) (0.12.1)\n",
      "Requirement already satisfied: namex in /anaconda/envs/azureml_py38/lib/python3.10/site-packages (from keras>=3.2.0->tensorflow) (0.0.8)\n",
      "Requirement already satisfied: rich in /anaconda/envs/azureml_py38/lib/python3.10/site-packages (from keras>=3.2.0->tensorflow) (13.8.1)\n",
      "Requirement already satisfied: idna<4,>=2.5 in /anaconda/envs/azureml_py38/lib/python3.10/site-packages (from requests<3,>=2.21.0->tensorflow) (3.7)\n",
      "Requirement already satisfied: certifi>=2017.4.17 in /anaconda/envs/azureml_py38/lib/python3.10/site-packages (from requests<3,>=2.21.0->tensorflow) (2024.8.30)\n",
      "Requirement already satisfied: charset-normalizer<4,>=2 in /anaconda/envs/azureml_py38/lib/python3.10/site-packages (from requests<3,>=2.21.0->tensorflow) (3.3.2)\n",
      "Requirement already satisfied: urllib3<3,>=1.21.1 in /anaconda/envs/azureml_py38/lib/python3.10/site-packages (from requests<3,>=2.21.0->tensorflow) (1.26.19)\n",
      "Requirement already satisfied: werkzeug>=1.0.1 in /anaconda/envs/azureml_py38/lib/python3.10/site-packages (from tensorboard<2.18,>=2.17->tensorflow) (3.0.3)\n",
      "Requirement already satisfied: tensorboard-data-server<0.8.0,>=0.7.0 in /anaconda/envs/azureml_py38/lib/python3.10/site-packages (from tensorboard<2.18,>=2.17->tensorflow) (0.7.2)\n",
      "Requirement already satisfied: markdown>=2.6.8 in /anaconda/envs/azureml_py38/lib/python3.10/site-packages (from tensorboard<2.18,>=2.17->tensorflow) (3.7)\n",
      "Requirement already satisfied: MarkupSafe>=2.1.1 in /anaconda/envs/azureml_py38/lib/python3.10/site-packages (from werkzeug>=1.0.1->tensorboard<2.18,>=2.17->tensorflow) (2.1.5)\n",
      "Requirement already satisfied: markdown-it-py>=2.2.0 in /anaconda/envs/azureml_py38/lib/python3.10/site-packages (from rich->keras>=3.2.0->tensorflow) (3.0.0)\n",
      "Requirement already satisfied: pygments<3.0.0,>=2.13.0 in /anaconda/envs/azureml_py38/lib/python3.10/site-packages (from rich->keras>=3.2.0->tensorflow) (2.18.0)\n",
      "Requirement already satisfied: mdurl~=0.1 in /anaconda/envs/azureml_py38/lib/python3.10/site-packages (from markdown-it-py>=2.2.0->rich->keras>=3.2.0->tensorflow) (0.1.2)\n",
      "Requirement already satisfied: keras in /anaconda/envs/azureml_py38/lib/python3.10/site-packages (3.5.0)\n",
      "Requirement already satisfied: ml-dtypes in /anaconda/envs/azureml_py38/lib/python3.10/site-packages (from keras) (0.4.1)\n",
      "Requirement already satisfied: h5py in /anaconda/envs/azureml_py38/lib/python3.10/site-packages (from keras) (3.11.0)\n",
      "Requirement already satisfied: absl-py in /anaconda/envs/azureml_py38/lib/python3.10/site-packages (from keras) (2.1.0)\n",
      "Requirement already satisfied: packaging in /anaconda/envs/azureml_py38/lib/python3.10/site-packages (from keras) (24.1)\n",
      "Requirement already satisfied: numpy in /anaconda/envs/azureml_py38/lib/python3.10/site-packages (from keras) (1.23.5)\n",
      "Requirement already satisfied: optree in /anaconda/envs/azureml_py38/lib/python3.10/site-packages (from keras) (0.12.1)\n",
      "Requirement already satisfied: rich in /anaconda/envs/azureml_py38/lib/python3.10/site-packages (from keras) (13.8.1)\n",
      "Requirement already satisfied: namex in /anaconda/envs/azureml_py38/lib/python3.10/site-packages (from keras) (0.0.8)\n",
      "Requirement already satisfied: typing-extensions>=4.5.0 in /anaconda/envs/azureml_py38/lib/python3.10/site-packages (from optree->keras) (4.12.2)\n",
      "Requirement already satisfied: pygments<3.0.0,>=2.13.0 in /anaconda/envs/azureml_py38/lib/python3.10/site-packages (from rich->keras) (2.18.0)\n",
      "Requirement already satisfied: markdown-it-py>=2.2.0 in /anaconda/envs/azureml_py38/lib/python3.10/site-packages (from rich->keras) (3.0.0)\n",
      "Requirement already satisfied: mdurl~=0.1 in /anaconda/envs/azureml_py38/lib/python3.10/site-packages (from markdown-it-py>=2.2.0->rich->keras) (0.1.2)\n",
      "Requirement already satisfied: gym in /anaconda/envs/azureml_py38/lib/python3.10/site-packages (0.23.1)\n",
      "Requirement already satisfied: gym-notices>=0.0.4 in /anaconda/envs/azureml_py38/lib/python3.10/site-packages (from gym) (0.0.8)\n",
      "Requirement already satisfied: cloudpickle>=1.2.0 in /anaconda/envs/azureml_py38/lib/python3.10/site-packages (from gym) (2.2.1)\n",
      "Requirement already satisfied: numpy>=1.18.0 in /anaconda/envs/azureml_py38/lib/python3.10/site-packages (from gym) (1.23.5)\n",
      "Requirement already satisfied: pygame in /anaconda/envs/azureml_py38/lib/python3.10/site-packages (2.6.1)\n",
      "Requirement already satisfied: opencv-python in /anaconda/envs/azureml_py38/lib/python3.10/site-packages (4.10.0.84)\n",
      "Requirement already satisfied: numpy>=1.19.3 in /anaconda/envs/azureml_py38/lib/python3.10/site-packages (from opencv-python) (1.23.5)\n",
      "Requirement already satisfied: pillow in /anaconda/envs/azureml_py38/lib/python3.10/site-packages (9.2.0)\n"
     ]
    }
   ],
   "source": [
    "!pip install numpy\n",
    "!pip install tensorflow\n",
    "!pip install keras\n",
    "!pip install gym\n",
    "!pip install pygame\n",
    "!pip install opencv-python\n",
    "!pip install pillow"
   ]
  },
  {
   "cell_type": "code",
   "execution_count": 207,
   "id": "6a2411da-73bf-48c0-8a01-a85d9b893809",
   "metadata": {
    "scrolled": true
   },
   "outputs": [
    {
     "name": "stdout",
     "output_type": "stream",
     "text": [
      "Collecting git+https://github.com/ntasfi/PyGame-Learning-Environment.git\n",
      "  Cloning https://github.com/ntasfi/PyGame-Learning-Environment.git to /tmp/pip-req-build-pt38if0z\n",
      "  Running command git clone --filter=blob:none --quiet https://github.com/ntasfi/PyGame-Learning-Environment.git /tmp/pip-req-build-pt38if0z\n",
      "  Resolved https://github.com/ntasfi/PyGame-Learning-Environment.git to commit 3dbe79dc0c35559bb441b9359948aabf9bb3d331\n",
      "  Preparing metadata (setup.py) ... \u001b[?25ldone\n",
      "\u001b[?25hRequirement already satisfied: numpy in /anaconda/envs/azureml_py38/lib/python3.10/site-packages (from ple==0.0.1) (1.23.5)\n",
      "Requirement already satisfied: Pillow in /anaconda/envs/azureml_py38/lib/python3.10/site-packages (from ple==0.0.1) (9.2.0)\n"
     ]
    }
   ],
   "source": [
    "!pip install git+https://github.com/ntasfi/PyGame-Learning-Environment.git"
   ]
  },
  {
   "cell_type": "code",
   "execution_count": 208,
   "id": "e1c351c6-7b38-4e3c-80e1-b47e39282351",
   "metadata": {},
   "outputs": [],
   "source": [
    "import os\n",
    "import urllib.request\n",
    "from pathlib import Path\n",
    "import numpy as np\n",
    "from collections import deque\n",
    "from tqdm import tqdm\n",
    "import warnings\n",
    "import cv2\n",
    "import random\n",
    "import gc\n",
    "import tensorflow as tf\n",
    "\n",
    "# Deep learning imports\n",
    "from tensorflow.keras.applications import MobileNetV2\n",
    "from tensorflow.keras.models import Model\n",
    "from tensorflow.keras.layers import GlobalAveragePooling2D, Dense, Input, Concatenate, Conv2D, Lambda, Dropout\n",
    "from tensorflow.keras.optimizers import Adam\n",
    "from tensorflow.keras.layers import Lambda\n",
    "\n",
    "# Game environment\n",
    "from ple import PLE\n",
    "from ple.games.flappybird import FlappyBird\n",
    "\n",
    "# Suppress warnings\n",
    "warnings.filterwarnings('ignore')\n",
    "os.environ['TF_CPP_MIN_LOG_LEVEL'] = '2'\n",
    "os.environ['SDL_AUDIODRIVER'] = 'dummy'\n",
    "\n",
    "def setup_flappy_bird_environment():\n",
    "    \"\"\"Setup Flappy Bird environment and download required assets\"\"\"\n",
    "    import ple\n",
    "    ple_path = os.path.dirname(ple.__file__)\n",
    "    asset_path = os.path.join(ple_path, 'games', 'flappybird', 'assets')\n",
    "    os.makedirs(asset_path, exist_ok=True)\n",
    "    \n",
    "    assets = {\n",
    "        # Basic assets\n",
    "        'background-day.png': 'https://raw.githubusercontent.com/ntasfi/PyGame-Learning-Environment/master/ple/games/flappybird/assets/background-day.png',\n",
    "        'background-night.png': 'https://raw.githubusercontent.com/ntasfi/PyGame-Learning-Environment/master/ple/games/flappybird/assets/background-night.png',\n",
    "        'base.png': 'https://raw.githubusercontent.com/ntasfi/PyGame-Learning-Environment/master/ple/games/flappybird/assets/base.png',\n",
    "        'pipe-green.png': 'https://raw.githubusercontent.com/ntasfi/PyGame-Learning-Environment/master/ple/games/flappybird/assets/pipe-green.png',\n",
    "        'pipe-red.png': 'https://raw.githubusercontent.com/ntasfi/PyGame-Learning-Environment/master/ple/games/flappybird/assets/pipe-red.png',\n",
    "        \n",
    "        # Bird variants\n",
    "        'bluebird-upflap.png': 'https://raw.githubusercontent.com/ntasfi/PyGame-Learning-Environment/master/ple/games/flappybird/assets/bluebird-upflap.png',\n",
    "        'bluebird-midflap.png': 'https://raw.githubusercontent.com/ntasfi/PyGame-Learning-Environment/master/ple/games/flappybird/assets/bluebird-midflap.png',\n",
    "        'bluebird-downflap.png': 'https://raw.githubusercontent.com/ntasfi/PyGame-Learning-Environment/master/ple/games/flappybird/assets/bluebird-downflap.png',\n",
    "    }\n",
    "    \n",
    "    for filename, url in assets.items():\n",
    "        file_path = os.path.join(asset_path, filename)\n",
    "        if not os.path.exists(file_path):\n",
    "            print(f\"Downloading {filename}...\")\n",
    "            try:\n",
    "                urllib.request.urlretrieve(url, file_path)\n",
    "                print(f\"Successfully downloaded {filename}\")\n",
    "            except Exception as e:\n",
    "                print(f\"Failed to download {filename}: {e}\")\n",
    "                return None\n",
    "    \n",
    "    # Create symbolic links for other bird variants\n",
    "    bird_colors = ['red', 'yellow']\n",
    "    flap_types = ['upflap', 'midflap', 'downflap']\n",
    "    \n",
    "    for color in bird_colors:\n",
    "        for flap in flap_types:\n",
    "            src = os.path.join(asset_path, f\"bluebird-{flap}.png\")\n",
    "            dst = os.path.join(asset_path, f\"{color}bird-{flap}.png\")\n",
    "            if not os.path.exists(dst):\n",
    "                os.symlink(src, dst)\n",
    "    \n",
    "    return asset_path"
   ]
  },
  {
   "cell_type": "code",
   "execution_count": 209,
   "id": "a6756ea1-cf8a-470a-9e5c-3d9f029cb880",
   "metadata": {},
   "outputs": [],
   "source": [
    "# Debug function to verify assets\n",
    "def verify_assets():\n",
    "    \"\"\"\n",
    "    Verify that all required assets are present in the correct location\n",
    "    \"\"\"\n",
    "    import ple\n",
    "    ple_path = os.path.dirname(ple.__file__)\n",
    "    asset_path = os.path.join(ple_path, 'games', 'flappybird', 'assets')\n",
    "    \n",
    "    print(f\"Asset path: {asset_path}\")\n",
    "    print(f\"Asset directory exists: {os.path.exists(asset_path)}\")\n",
    "    \n",
    "    if os.path.exists(asset_path):\n",
    "        print(\"Contents of asset directory:\")\n",
    "        files = os.listdir(asset_path)\n",
    "        print(\"\\n\".join(sorted(files)))\n",
    "        \n",
    "        # Check for all required variants\n",
    "        bird_variants = ['blue', 'red', 'yellow']\n",
    "        flap_types = ['upflap', 'midflap', 'downflap']\n",
    "        \n",
    "        for bird in bird_variants:\n",
    "            for flap in flap_types:\n",
    "                filename = f\"{bird}bird-{flap}.png\"\n",
    "                exists = filename in files\n",
    "                print(f\"{filename}: {'✓' if exists else '✗'}\")"
   ]
  },
  {
   "cell_type": "code",
   "execution_count": 210,
   "id": "abd555eb-7a3e-4d2c-92cc-d03a34bdfb71",
   "metadata": {},
   "outputs": [],
   "source": [
    "def build_optimized_model(input_shape=(84, 84, 4)):\n",
    "    \"\"\"\n",
    "    Optimized lightweight model architecture\n",
    "    \"\"\"\n",
    "    input_img = Input(shape=input_shape)\n",
    "    \n",
    "    # Efficient CNN architecture\n",
    "    x = Conv2D(32, (8, 8), strides=(4, 4), activation='relu')(input_img)\n",
    "    x = Conv2D(64, (4, 4), strides=(2, 2), activation='relu')(x)\n",
    "    x = Conv2D(64, (3, 3), strides=(1, 1), activation='relu')(x)\n",
    "    x = GlobalAveragePooling2D()(x)\n",
    "    \n",
    "    x = Dense(512, activation='relu')(x)\n",
    "    x = Dropout(0.3)(x)\n",
    "    output = Dense(2, activation='linear')(x)\n",
    "    \n",
    "    model = Model(inputs=input_img, outputs=output)\n",
    "    model.compile(optimizer=Adam(learning_rate=0.0002), loss='huber')\n",
    "    return model"
   ]
  },
  {
   "cell_type": "code",
   "execution_count": 211,
   "id": "4774392f-862a-4fde-8f0e-cf61e844765f",
   "metadata": {},
   "outputs": [],
   "source": [
    "class OptimizedDQNAgent:\n",
    "    def __init__(self, state_size, action_size):\n",
    "        self.state_size = state_size\n",
    "        self.action_size = action_size\n",
    "        self.memory = deque(maxlen=20000)\n",
    "        self.gamma = 0.99\n",
    "        self.epsilon = 1.0\n",
    "        self.epsilon_min = 0.01\n",
    "        self.epsilon_decay = 0.99\n",
    "        self.learning_rate = 0.0002\n",
    "        self.batch_size = 64\n",
    "        self.min_replay_size = 500  # Wait for more samples before training\n",
    "        self.model = build_optimized_model(state_size)\n",
    "        self.target_model = build_optimized_model(state_size)\n",
    "        self.update_target_model()\n",
    "\n",
    "    def update_target_model(self):\n",
    "        self.target_model.set_weights(self.model.get_weights())\n",
    "    \n",
    "    def remember(self, state, action, reward, next_state, done):\n",
    "        self.memory.append((state, action, reward, next_state, done))\n",
    "    \n",
    "    def act(self, state):\n",
    "        if np.random.rand() <= self.epsilon:\n",
    "            return np.random.randint(self.action_size)\n",
    "        state = np.expand_dims(state, axis=0)\n",
    "        act_values = self.model.predict(state, verbose=0)\n",
    "        return np.argmax(act_values[0])\n",
    "\n",
    "    def replay(self, batch_size):\n",
    "        if len(self.memory) < batch_size:\n",
    "            return\n",
    "        \n",
    "        # Use numpy arrays for better performance\n",
    "        minibatch = random.sample(self.memory, batch_size)\n",
    "        states = np.array([exp[0] for exp in minibatch])\n",
    "        actions = np.array([exp[1] for exp in minibatch])\n",
    "        rewards = np.array([exp[2] for exp in minibatch])\n",
    "        next_states = np.array([exp[3] for exp in minibatch])\n",
    "        dones = np.array([exp[4] for exp in minibatch])\n",
    "        \n",
    "        # Batch predictions\n",
    "        target_values = self.target_model.predict(next_states, batch_size=batch_size, verbose=0)\n",
    "        targets = rewards + self.gamma * np.max(target_values, axis=1) * (1 - dones)\n",
    "        \n",
    "        target_f = self.model.predict(states, batch_size=batch_size, verbose=0)\n",
    "        for i, action in enumerate(actions):\n",
    "            target_f[i][action] = targets[i]\n",
    "        \n",
    "        self.model.fit(states, target_f, epochs=1, verbose=0, batch_size=batch_size)\n",
    "        \n",
    "        if self.epsilon > self.epsilon_min:\n",
    "            self.epsilon *= self.epsilon_decay"
   ]
  },
  {
   "cell_type": "code",
   "execution_count": 212,
   "id": "6f7884c0-20f6-4486-893b-933ca5a1d855",
   "metadata": {},
   "outputs": [],
   "source": [
    "def process_state_optimized(state):\n",
    "    \"\"\"\n",
    "    Optimized state preprocessing for 84x84 input\n",
    "    \"\"\"\n",
    "    state = cv2.resize(state, (84, 84), interpolation=cv2.INTER_AREA)\n",
    "    state = state.astype(np.float32) / 255.0\n",
    "    gray = cv2.cvtColor((state * 255).astype(np.uint8), cv2.COLOR_RGB2GRAY)\n",
    "    gray = np.expand_dims(gray, axis=-1).astype(np.float32) / 255.0\n",
    "    return np.concatenate([state, gray], axis=-1)\n",
    "\n",
    "def train_agent_optimized(n_episodes=500, update_target_freq=2):\n",
    "    \"\"\"Optimized training loop for lightweight model\"\"\"\n",
    "    # Environment setup\n",
    "    game = FlappyBird()\n",
    "    env = PLE(game, fps=30, display_screen=False)\n",
    "    env.init()\n",
    "    \n",
    "    # Initialize agent\n",
    "    state_size = (84, 84, 4)\n",
    "    action_size = len(env.getActionSet())\n",
    "    agent = OptimizedDQNAgent(state_size, action_size)\n",
    "    \n",
    "    # Training metrics\n",
    "    scores = []\n",
    "    recent_scores = deque(maxlen=100)\n",
    "    best_score = float('-inf')\n",
    "    training_start_time = time.time()\n",
    "    \n",
    "    # Progress bar\n",
    "    progress_bar = tqdm(range(n_episodes), desc='Training')\n",
    "    \n",
    "    for episode in progress_bar:\n",
    "        env.reset_game()\n",
    "        state = process_state_optimized(env.getScreenRGB())\n",
    "        total_reward = 0\n",
    "        steps = 0\n",
    "        episode_start_time = time.time()\n",
    "        \n",
    "        while not env.game_over():\n",
    "            action = agent.act(state)\n",
    "            raw_reward = env.act(env.getActionSet()[action])\n",
    "            next_state = process_state_optimized(env.getScreenRGB())\n",
    "            done = env.game_over()\n",
    "            \n",
    "            # Calculate reward\n",
    "            reward = calculate_optimized_reward(game.getGameState(), raw_reward, done, steps)\n",
    "            \n",
    "            # Store experience\n",
    "            agent.remember(state, action, reward, next_state, done)\n",
    "            \n",
    "            # Train if we have enough samples\n",
    "            if len(agent.memory) >= agent.min_replay_size:\n",
    "                agent.replay(agent.batch_size)\n",
    "            \n",
    "            state = next_state\n",
    "            total_reward += reward\n",
    "            steps += 1\n",
    "        \n",
    "        # Update target network\n",
    "        if episode % update_target_freq == 0:\n",
    "            agent.update_target_model()\n",
    "        \n",
    "        # Update metrics\n",
    "        scores.append(total_reward)\n",
    "        recent_scores.append(total_reward)\n",
    "        avg_score = np.mean(recent_scores)\n",
    "        \n",
    "        # Save best model\n",
    "        if total_reward > best_score:\n",
    "            best_score = total_reward\n",
    "            agent.model.save('flappy_bird_best_model.keras')\n",
    "        \n",
    "        # Calculate speed metrics\n",
    "        episode_time = time.time() - episode_start_time\n",
    "        total_time = time.time() - training_start_time\n",
    "        avg_episode_time = total_time / (episode + 1)\n",
    "        \n",
    "        # Update progress bar\n",
    "        progress_bar.set_postfix({\n",
    "            'Score': f'{total_reward:.1f}',\n",
    "            'Avg': f'{avg_score:.1f}',\n",
    "            'Best': f'{best_score:.1f}',\n",
    "            'Steps': steps,\n",
    "            'ε': f'{agent.epsilon:.2f}',\n",
    "            'Time/ep': f'{episode_time:.1f}s'\n",
    "        })\n",
    "        \n",
    "        # Save checkpoint every 50 episodes\n",
    "        if episode % 50 == 0 and episode > 0:\n",
    "            agent.model.save(f'flappy_bird_checkpoint_{episode}.keras')\n",
    "           \n",
    "        gc.collect()\n",
    "        tf.keras.backend.clear_session()\n",
    "    \n",
    "    return agent, scores\n",
    "\n",
    "def calculate_optimized_reward(game_state, raw_reward, done, steps):\n",
    "    \"\"\"Efficient reward calculation\"\"\"\n",
    "    if done:\n",
    "        return -5.0\n",
    "    \n",
    "    reward = 0.1  # Living reward\n",
    "    \n",
    "    # Quick calculations using numpy operations\n",
    "    player_y = game_state['player_y']\n",
    "    pipe_center_y = (game_state['next_pipe_top_y'] + game_state['next_pipe_bottom_y']) / 2\n",
    "    vertical_distance = abs(player_y - pipe_center_y)\n",
    "    pipe_distance = game_state['next_pipe_dist_to_player']\n",
    "    \n",
    "    # Vectorized reward calculation\n",
    "    reward += np.interp(vertical_distance, [0, 25, 50], [2.0, 0.5, 0.0])\n",
    "    reward += np.interp(pipe_distance, [0, 25, 50], [3.0, 1.0, 0.0])\n",
    "    \n",
    "    if raw_reward > 0:  # Passed through pipe\n",
    "        reward += 10.0\n",
    "    \n",
    "    if steps > 100:  # Survival bonus\n",
    "        reward *= 1.5\n",
    "    \n",
    "    return reward\n"
   ]
  },
  {
   "cell_type": "code",
   "execution_count": 213,
   "id": "1f52184f-dc77-4995-8832-0c3fcfee244f",
   "metadata": {},
   "outputs": [],
   "source": [
    "def test_agent(agent, n_episodes=10):\n",
    "    \"\"\"Test the trained agent\"\"\"\n",
    "    asset_path = setup_flappy_bird_environment()\n",
    "    if asset_path is None:\n",
    "        print(\"Failed to set up environment for testing. Exiting.\")\n",
    "        return\n",
    "    \n",
    "    try:\n",
    "        game = FlappyBird()\n",
    "        env = PLE(game, fps=30, display_screen=True)\n",
    "        env.init()\n",
    "    except Exception as e:\n",
    "        print(f\"Failed to initialize game for testing: {e}\")\n",
    "        return\n",
    "    \n",
    "    agent.epsilon = 0  # Pure exploitation during testing\n",
    "    test_scores = []\n",
    "    \n",
    "    for episode in range(n_episodes):\n",
    "        env.reset_game()\n",
    "        state = preprocess_state(env.getScreenRGB())\n",
    "        total_reward = 0\n",
    "        done = False\n",
    "        \n",
    "        while not done:\n",
    "            action = agent.act(state)\n",
    "            reward = env.act(env.getActionSet()[action])\n",
    "            state = preprocess_state(env.getScreenRGB())\n",
    "            done = env.game_over()\n",
    "            total_reward += reward\n",
    "        \n",
    "        test_scores.append(total_reward)\n",
    "        print(f'Test Episode {episode + 1}: Total Reward = {total_reward}')\n",
    "    \n",
    "    print(f'Average Test Score: {np.mean(test_scores):.2f}')"
   ]
  },
  {
   "cell_type": "code",
   "execution_count": 214,
   "id": "9a59d154-da3d-43af-9715-855be8767b3f",
   "metadata": {
    "scrolled": true
   },
   "outputs": [
    {
     "name": "stdout",
     "output_type": "stream",
     "text": [
      "Asset path: /anaconda/envs/azureml_py38/lib/python3.10/site-packages/ple/games/flappybird/assets\n",
      "Asset directory exists: True\n",
      "Contents of asset directory:\n",
      "['redbird-midflap.png', 'bluebird-midflap.png', 'background-day.png', 'redbird-upflap.png', 'base.png', 'yellowbird-downflap.png', 'pipe-red.png', 'background-night.png', 'pipe-green.png', 'bluebird-upflap.png', 'redbird-downflap.png', 'bluebird-downflap.png', 'yellowbird-upflap.png', 'yellowbird-midflap.png']\n"
     ]
    }
   ],
   "source": [
    "# Debug cell - Run this before main execution\n",
    "import os\n",
    "from ple import PLE\n",
    "import ple\n",
    "\n",
    "# Print asset directory information\n",
    "ple_path = os.path.dirname(ple.__file__)\n",
    "asset_path = os.path.join(ple_path, 'games', 'flappybird', 'assets')\n",
    "print(f\"Asset path: {asset_path}\")\n",
    "print(f\"Asset directory exists: {os.path.exists(asset_path)}\")\n",
    "if os.path.exists(asset_path):\n",
    "    print(\"Contents of asset directory:\")\n",
    "    print(os.listdir(asset_path))"
   ]
  },
  {
   "cell_type": "code",
   "execution_count": null,
   "id": "5b3af848-a2d9-4405-a1e7-3f440d35c6e8",
   "metadata": {},
   "outputs": [
    {
     "name": "stderr",
     "output_type": "stream",
     "text": [
      "libpng warning: iCCP: known incorrect sRGB profile\n",
      "libpng warning: iCCP: known incorrect sRGB profile\n",
      "libpng warning: iCCP: known incorrect sRGB profile\n",
      "libpng warning: iCCP: known incorrect sRGB profile\n",
      "libpng warning: iCCP: known incorrect sRGB profile\n",
      "libpng warning: iCCP: known incorrect sRGB profile\n",
      "libpng warning: iCCP: known incorrect sRGB profile\n",
      "libpng warning: iCCP: known incorrect sRGB profile\n",
      "libpng warning: iCCP: known incorrect sRGB profile\n",
      "libpng warning: iCCP: known incorrect sRGB profile\n",
      "libpng warning: iCCP: known incorrect sRGB profile\n",
      "  0%|          | 0/500 [00:00<?, ?it/s]"
     ]
    },
    {
     "name": "stdout",
     "output_type": "stream",
     "text": [
      "Episode: 1/500, Score: 19.70, Game Score: -5.0, Avg Score: 19.70, Epsilon: 1.000, Steps: 58, Best Score: 19.70\n"
     ]
    },
    {
     "name": "stderr",
     "output_type": "stream",
     "text": [
      "  0%|          | 2/500 [02:09<10:30:20, 75.95s/it]"
     ]
    },
    {
     "name": "stdout",
     "output_type": "stream",
     "text": [
      "Episode: 2/500, Score: 42.10, Game Score: -5.0, Avg Score: 30.90, Epsilon: 0.945, Steps: 62, Best Score: 42.10\n"
     ]
    },
    {
     "name": "stderr",
     "output_type": "stream",
     "text": [
      "  1%|          | 3/500 [04:04<12:56:18, 93.72s/it]"
     ]
    },
    {
     "name": "stdout",
     "output_type": "stream",
     "text": [
      "Episode: 3/500, Score: 20.20, Game Score: -5.0, Avg Score: 27.33, Epsilon: 0.896, Steps: 53, Best Score: 42.10\n"
     ]
    },
    {
     "name": "stderr",
     "output_type": "stream",
     "text": [
      "  1%|          | 4/500 [05:55<13:51:46, 100.62s/it]"
     ]
    },
    {
     "name": "stdout",
     "output_type": "stream",
     "text": [
      "Episode: 4/500, Score: 11.50, Game Score: -5.0, Avg Score: 23.38, Epsilon: 0.851, Steps: 51, Best Score: 42.10\n"
     ]
    },
    {
     "name": "stderr",
     "output_type": "stream",
     "text": [
      "  1%|          | 5/500 [07:28<13:26:10, 97.72s/it] "
     ]
    },
    {
     "name": "stdout",
     "output_type": "stream",
     "text": [
      "Episode: 5/500, Score: 20.10, Game Score: -5.0, Avg Score: 22.72, Epsilon: 0.816, Steps: 42, Best Score: 42.10\n"
     ]
    },
    {
     "name": "stderr",
     "output_type": "stream",
     "text": [
      "  1%|          | 6/500 [09:34<14:44:24, 107.42s/it]"
     ]
    },
    {
     "name": "stdout",
     "output_type": "stream",
     "text": [
      "Episode: 6/500, Score: 10.90, Game Score: -5.0, Avg Score: 20.75, Epsilon: 0.772, Steps: 55, Best Score: 42.10\n"
     ]
    },
    {
     "name": "stderr",
     "output_type": "stream",
     "text": [
      "  1%|▏         | 7/500 [11:51<16:03:48, 117.30s/it]"
     ]
    },
    {
     "name": "stdout",
     "output_type": "stream",
     "text": [
      "Episode: 7/500, Score: 20.10, Game Score: -5.0, Avg Score: 20.66, Epsilon: 0.730, Steps: 57, Best Score: 42.10\n"
     ]
    },
    {
     "name": "stderr",
     "output_type": "stream",
     "text": [
      "  2%|▏         | 8/500 [13:39<15:35:30, 114.09s/it]"
     ]
    },
    {
     "name": "stdout",
     "output_type": "stream",
     "text": [
      "Episode: 8/500, Score: 18.00, Game Score: -5.0, Avg Score: 20.33, Epsilon: 0.697, Steps: 46, Best Score: 42.10\n"
     ]
    },
    {
     "name": "stderr",
     "output_type": "stream",
     "text": [
      "  2%|▏         | 9/500 [14:51<13:48:07, 101.20s/it]"
     ]
    },
    {
     "name": "stdout",
     "output_type": "stream",
     "text": [
      "Episode: 9/500, Score: 13.20, Game Score: -5.0, Avg Score: 19.53, Epsilon: 0.674, Steps: 33, Best Score: 42.10\n"
     ]
    },
    {
     "name": "stderr",
     "output_type": "stream",
     "text": [
      "  2%|▏         | 10/500 [16:34<13:50:46, 101.73s/it]"
     ]
    },
    {
     "name": "stdout",
     "output_type": "stream",
     "text": [
      "Episode: 10/500, Score: 22.10, Game Score: -5.0, Avg Score: 19.79, Epsilon: 0.643, Steps: 47, Best Score: 42.10\n",
      "Episode: 11/500, Score: 17.00, Game Score: -5.0, Avg Score: 19.54, Epsilon: 0.614, Steps: 46, Best Score: 42.10\n"
     ]
    },
    {
     "name": "stderr",
     "output_type": "stream",
     "text": [
      "  2%|▏         | 12/500 [20:10<14:19:08, 105.63s/it]"
     ]
    },
    {
     "name": "stdout",
     "output_type": "stream",
     "text": [
      "Episode: 12/500, Score: 23.20, Game Score: -5.0, Avg Score: 19.84, Epsilon: 0.583, Steps: 53, Best Score: 42.10\n"
     ]
    },
    {
     "name": "stderr",
     "output_type": "stream",
     "text": [
      "  3%|▎         | 13/500 [22:06<14:41:41, 108.63s/it]"
     ]
    },
    {
     "name": "stdout",
     "output_type": "stream",
     "text": [
      "Episode: 13/500, Score: 19.20, Game Score: -5.0, Avg Score: 19.79, Epsilon: 0.553, Steps: 53, Best Score: 42.10\n"
     ]
    },
    {
     "name": "stderr",
     "output_type": "stream",
     "text": [
      "  3%|▎         | 14/500 [24:39<16:29:17, 122.14s/it]"
     ]
    },
    {
     "name": "stdout",
     "output_type": "stream",
     "text": [
      "Episode: 14/500, Score: 84.40, Game Score: -4.0, Avg Score: 24.41, Epsilon: 0.515, Steps: 70, Best Score: 84.40\n"
     ]
    },
    {
     "name": "stderr",
     "output_type": "stream",
     "text": [
      "  3%|▎         | 15/500 [26:41<16:27:22, 122.15s/it]"
     ]
    },
    {
     "name": "stdout",
     "output_type": "stream",
     "text": [
      "Episode: 15/500, Score: 23.00, Game Score: -5.0, Avg Score: 24.31, Epsilon: 0.487, Steps: 56, Best Score: 84.40\n"
     ]
    },
    {
     "name": "stderr",
     "output_type": "stream",
     "text": [
      "  3%|▎         | 16/500 [28:31<15:55:28, 118.45s/it]"
     ]
    },
    {
     "name": "stdout",
     "output_type": "stream",
     "text": [
      "Episode: 16/500, Score: 20.90, Game Score: -5.0, Avg Score: 24.10, Epsilon: 0.463, Steps: 50, Best Score: 84.40\n"
     ]
    },
    {
     "name": "stderr",
     "output_type": "stream",
     "text": [
      "  3%|▎         | 17/500 [30:49<16:39:16, 124.13s/it]"
     ]
    },
    {
     "name": "stdout",
     "output_type": "stream",
     "text": [
      "Episode: 17/500, Score: 1.60, Game Score: -5.0, Avg Score: 22.78, Epsilon: 0.435, Steps: 62, Best Score: 84.40\n"
     ]
    },
    {
     "name": "stderr",
     "output_type": "stream",
     "text": [
      "  4%|▎         | 18/500 [32:29<15:40:18, 117.05s/it]"
     ]
    },
    {
     "name": "stdout",
     "output_type": "stream",
     "text": [
      "Episode: 18/500, Score: 15.50, Game Score: -5.0, Avg Score: 22.37, Epsilon: 0.416, Steps: 46, Best Score: 84.40\n"
     ]
    },
    {
     "name": "stderr",
     "output_type": "stream",
     "text": [
      "  4%|▍         | 19/500 [34:44<16:22:05, 122.51s/it]"
     ]
    },
    {
     "name": "stdout",
     "output_type": "stream",
     "text": [
      "Episode: 19/500, Score: 28.60, Game Score: -5.0, Avg Score: 22.70, Epsilon: 0.391, Steps: 62, Best Score: 84.40\n"
     ]
    },
    {
     "name": "stderr",
     "output_type": "stream",
     "text": [
      "  4%|▍         | 20/500 [36:25<15:28:02, 116.01s/it]"
     ]
    },
    {
     "name": "stdout",
     "output_type": "stream",
     "text": [
      "Episode: 20/500, Score: 22.00, Game Score: -5.0, Avg Score: 22.67, Epsilon: 0.373, Steps: 46, Best Score: 84.40\n",
      "Episode: 21/500, Score: 18.90, Game Score: -5.0, Avg Score: 22.49, Epsilon: 0.357, Steps: 45, Best Score: 84.40\n"
     ]
    },
    {
     "name": "stderr",
     "output_type": "stream",
     "text": [
      "  4%|▍         | 22/500 [39:47<14:23:03, 108.33s/it]"
     ]
    },
    {
     "name": "stdout",
     "output_type": "stream",
     "text": [
      "Episode: 22/500, Score: 19.10, Game Score: -5.0, Avg Score: 22.33, Epsilon: 0.340, Steps: 47, Best Score: 84.40\n"
     ]
    },
    {
     "name": "stderr",
     "output_type": "stream",
     "text": [
      "  5%|▍         | 23/500 [42:03<15:28:30, 116.79s/it]"
     ]
    },
    {
     "name": "stdout",
     "output_type": "stream",
     "text": [
      "Episode: 23/500, Score: 47.10, Game Score: -5.0, Avg Score: 23.41, Epsilon: 0.320, Steps: 62, Best Score: 84.40\n"
     ]
    },
    {
     "name": "stderr",
     "output_type": "stream",
     "text": [
      "  5%|▍         | 24/500 [44:19<16:12:55, 122.64s/it]"
     ]
    },
    {
     "name": "stdout",
     "output_type": "stream",
     "text": [
      "Episode: 24/500, Score: 28.10, Game Score: -5.0, Avg Score: 23.60, Epsilon: 0.301, Steps: 62, Best Score: 84.40\n"
     ]
    },
    {
     "name": "stderr",
     "output_type": "stream",
     "text": [
      "  5%|▌         | 25/500 [46:36<16:44:35, 126.90s/it]"
     ]
    },
    {
     "name": "stdout",
     "output_type": "stream",
     "text": [
      "Episode: 25/500, Score: 2.60, Game Score: -5.0, Avg Score: 22.76, Epsilon: 0.283, Steps: 62, Best Score: 84.40\n"
     ]
    },
    {
     "name": "stderr",
     "output_type": "stream",
     "text": [
      "  5%|▌         | 26/500 [48:53<17:05:11, 129.77s/it]"
     ]
    },
    {
     "name": "stdout",
     "output_type": "stream",
     "text": [
      "Episode: 26/500, Score: 59.10, Game Score: -5.0, Avg Score: 24.16, Epsilon: 0.266, Steps: 62, Best Score: 84.40\n"
     ]
    },
    {
     "name": "stderr",
     "output_type": "stream",
     "text": [
      "  5%|▌         | 27/500 [52:19<20:03:44, 152.69s/it]"
     ]
    },
    {
     "name": "stdout",
     "output_type": "stream",
     "text": [
      "Episode: 27/500, Score: 64.20, Game Score: -4.0, Avg Score: 25.64, Epsilon: 0.242, Steps: 93, Best Score: 84.40\n"
     ]
    },
    {
     "name": "stderr",
     "output_type": "stream",
     "text": [
      "  6%|▌         | 28/500 [54:35<19:22:45, 147.81s/it]"
     ]
    },
    {
     "name": "stdout",
     "output_type": "stream",
     "text": [
      "Episode: 28/500, Score: 48.60, Game Score: -5.0, Avg Score: 26.46, Epsilon: 0.227, Steps: 62, Best Score: 84.40\n"
     ]
    },
    {
     "name": "stderr",
     "output_type": "stream",
     "text": [
      "  6%|▌         | 29/500 [56:17<17:30:56, 133.88s/it]"
     ]
    },
    {
     "name": "stdout",
     "output_type": "stream",
     "text": [
      "Episode: 29/500, Score: 20.00, Game Score: -5.0, Avg Score: 26.24, Epsilon: 0.217, Steps: 46, Best Score: 84.40\n"
     ]
    },
    {
     "name": "stderr",
     "output_type": "stream",
     "text": [
      "  6%|▌         | 30/500 [58:33<17:35:13, 134.71s/it]"
     ]
    },
    {
     "name": "stdout",
     "output_type": "stream",
     "text": [
      "Episode: 30/500, Score: 6.60, Game Score: -5.0, Avg Score: 25.59, Epsilon: 0.204, Steps: 62, Best Score: 84.40\n",
      "Episode: 31/500, Score: 60.20, Game Score: -4.0, Avg Score: 26.70, Epsilon: 0.191, Steps: 68, Best Score: 84.40\n"
     ]
    },
    {
     "name": "stderr",
     "output_type": "stream",
     "text": [
      "  6%|▋         | 32/500 [1:03:22<18:05:48, 139.21s/it]"
     ]
    },
    {
     "name": "stdout",
     "output_type": "stream",
     "text": [
      "Episode: 32/500, Score: 26.10, Game Score: -5.0, Avg Score: 26.68, Epsilon: 0.179, Steps: 62, Best Score: 84.40\n"
     ]
    },
    {
     "name": "stderr",
     "output_type": "stream",
     "text": [
      "  7%|▋         | 33/500 [1:05:32<17:41:40, 136.40s/it]"
     ]
    },
    {
     "name": "stdout",
     "output_type": "stream",
     "text": [
      "Episode: 33/500, Score: 14.80, Game Score: -5.0, Avg Score: 26.32, Epsilon: 0.169, Steps: 59, Best Score: 84.40\n"
     ]
    },
    {
     "name": "stderr",
     "output_type": "stream",
     "text": [
      "  7%|▋         | 34/500 [1:07:52<17:47:23, 137.43s/it]"
     ]
    },
    {
     "name": "stdout",
     "output_type": "stream",
     "text": [
      "Episode: 34/500, Score: 42.60, Game Score: -5.0, Avg Score: 26.80, Epsilon: 0.159, Steps: 62, Best Score: 84.40\n"
     ]
    },
    {
     "name": "stderr",
     "output_type": "stream",
     "text": [
      "  7%|▋         | 35/500 [1:09:56<17:13:15, 133.32s/it]"
     ]
    },
    {
     "name": "stdout",
     "output_type": "stream",
     "text": [
      "Episode: 35/500, Score: 26.50, Game Score: -5.0, Avg Score: 26.79, Epsilon: 0.150, Steps: 56, Best Score: 84.40\n"
     ]
    },
    {
     "name": "stderr",
     "output_type": "stream",
     "text": [
      "  7%|▋         | 36/500 [1:12:13<17:20:34, 134.56s/it]"
     ]
    },
    {
     "name": "stdout",
     "output_type": "stream",
     "text": [
      "Episode: 36/500, Score: 50.10, Game Score: -5.0, Avg Score: 27.44, Epsilon: 0.141, Steps: 62, Best Score: 84.40\n"
     ]
    },
    {
     "name": "stderr",
     "output_type": "stream",
     "text": [
      "  7%|▋         | 37/500 [1:14:32<17:27:16, 135.72s/it]"
     ]
    },
    {
     "name": "stdout",
     "output_type": "stream",
     "text": [
      "Episode: 37/500, Score: 6.10, Game Score: -5.0, Avg Score: 26.86, Epsilon: 0.133, Steps: 62, Best Score: 84.40\n"
     ]
    },
    {
     "name": "stderr",
     "output_type": "stream",
     "text": [
      "  8%|▊         | 38/500 [1:16:51<17:33:00, 136.75s/it]"
     ]
    },
    {
     "name": "stdout",
     "output_type": "stream",
     "text": [
      "Episode: 38/500, Score: 21.10, Game Score: -5.0, Avg Score: 26.71, Epsilon: 0.125, Steps: 62, Best Score: 84.40\n"
     ]
    },
    {
     "name": "stderr",
     "output_type": "stream",
     "text": [
      "  8%|▊         | 39/500 [1:18:52<16:54:43, 132.07s/it]"
     ]
    },
    {
     "name": "stdout",
     "output_type": "stream",
     "text": [
      "Episode: 39/500, Score: 57.90, Game Score: -5.0, Avg Score: 27.51, Epsilon: 0.118, Steps: 55, Best Score: 84.40\n"
     ]
    },
    {
     "name": "stderr",
     "output_type": "stream",
     "text": [
      "  8%|▊         | 40/500 [1:21:27<17:45:03, 138.92s/it]"
     ]
    },
    {
     "name": "stdout",
     "output_type": "stream",
     "text": [
      "Episode: 40/500, Score: 57.90, Game Score: -4.0, Avg Score: 28.27, Epsilon: 0.110, Steps: 70, Best Score: 84.40\n",
      "Episode: 41/500, Score: 27.20, Game Score: -5.0, Avg Score: 28.25, Epsilon: 0.105, Steps: 48, Best Score: 84.40\n"
     ]
    },
    {
     "name": "stderr",
     "output_type": "stream",
     "text": [
      "  8%|▊         | 42/500 [1:25:31<16:45:44, 131.76s/it]"
     ]
    },
    {
     "name": "stdout",
     "output_type": "stream",
     "text": [
      "Episode: 42/500, Score: 25.10, Game Score: -5.0, Avg Score: 28.17, Epsilon: 0.099, Steps: 62, Best Score: 84.40\n"
     ]
    },
    {
     "name": "stderr",
     "output_type": "stream",
     "text": [
      "  9%|▊         | 43/500 [1:27:49<16:56:53, 133.51s/it]"
     ]
    },
    {
     "name": "stdout",
     "output_type": "stream",
     "text": [
      "Episode: 43/500, Score: 23.60, Game Score: -5.0, Avg Score: 28.07, Epsilon: 0.093, Steps: 62, Best Score: 84.40\n"
     ]
    },
    {
     "name": "stderr",
     "output_type": "stream",
     "text": [
      "  9%|▉         | 44/500 [1:30:07<17:05:31, 134.94s/it]"
     ]
    },
    {
     "name": "stdout",
     "output_type": "stream",
     "text": [
      "Episode: 44/500, Score: 6.10, Game Score: -5.0, Avg Score: 27.57, Epsilon: 0.087, Steps: 62, Best Score: 84.40\n"
     ]
    },
    {
     "name": "stderr",
     "output_type": "stream",
     "text": [
      "  9%|▉         | 45/500 [1:31:42<15:32:28, 122.96s/it]"
     ]
    },
    {
     "name": "stdout",
     "output_type": "stream",
     "text": [
      "Episode: 45/500, Score: 37.70, Game Score: -5.0, Avg Score: 27.79, Epsilon: 0.083, Steps: 43, Best Score: 84.40\n"
     ]
    },
    {
     "name": "stderr",
     "output_type": "stream",
     "text": [
      "  9%|▉         | 46/500 [1:33:59<16:02:29, 127.20s/it]"
     ]
    },
    {
     "name": "stdout",
     "output_type": "stream",
     "text": [
      "Episode: 46/500, Score: 37.10, Game Score: -5.0, Avg Score: 27.99, Epsilon: 0.078, Steps: 62, Best Score: 84.40\n"
     ]
    },
    {
     "name": "stderr",
     "output_type": "stream",
     "text": [
      "  9%|▉         | 47/500 [1:36:16<16:21:54, 130.05s/it]"
     ]
    },
    {
     "name": "stdout",
     "output_type": "stream",
     "text": [
      "Episode: 47/500, Score: 11.10, Game Score: -5.0, Avg Score: 27.63, Epsilon: 0.074, Steps: 62, Best Score: 84.40\n"
     ]
    },
    {
     "name": "stderr",
     "output_type": "stream",
     "text": [
      " 10%|▉         | 48/500 [1:38:32<16:34:21, 132.00s/it]"
     ]
    },
    {
     "name": "stdout",
     "output_type": "stream",
     "text": [
      "Episode: 48/500, Score: 1.10, Game Score: -5.0, Avg Score: 27.08, Epsilon: 0.069, Steps: 62, Best Score: 84.40\n"
     ]
    },
    {
     "name": "stderr",
     "output_type": "stream",
     "text": [
      " 10%|▉         | 49/500 [1:40:50<16:43:58, 133.57s/it]"
     ]
    },
    {
     "name": "stdout",
     "output_type": "stream",
     "text": [
      "Episode: 49/500, Score: 27.60, Game Score: -5.0, Avg Score: 27.09, Epsilon: 0.065, Steps: 62, Best Score: 84.40\n"
     ]
    },
    {
     "name": "stderr",
     "output_type": "stream",
     "text": [
      " 10%|█         | 50/500 [1:42:09<14:40:12, 117.36s/it]"
     ]
    },
    {
     "name": "stdout",
     "output_type": "stream",
     "text": [
      "Episode: 50/500, Score: -1.50, Game Score: -5.0, Avg Score: 26.52, Epsilon: 0.063, Steps: 36, Best Score: 84.40\n",
      "Episode: 51/500, Score: 3.60, Game Score: -5.0, Avg Score: 26.07, Epsilon: 0.059, Steps: 62, Best Score: 84.40\n"
     ]
    },
    {
     "name": "stderr",
     "output_type": "stream",
     "text": [
      " 10%|█         | 52/500 [1:46:48<16:02:01, 128.84s/it]"
     ]
    },
    {
     "name": "stdout",
     "output_type": "stream",
     "text": [
      "Episode: 52/500, Score: 1.10, Game Score: -5.0, Avg Score: 25.59, Epsilon: 0.055, Steps: 62, Best Score: 84.40\n"
     ]
    },
    {
     "name": "stderr",
     "output_type": "stream",
     "text": [
      " 11%|█         | 53/500 [1:49:10<16:29:25, 132.81s/it]"
     ]
    },
    {
     "name": "stdout",
     "output_type": "stream",
     "text": [
      "Episode: 53/500, Score: 7.10, Game Score: -5.0, Avg Score: 25.24, Epsilon: 0.052, Steps: 62, Best Score: 84.40\n"
     ]
    },
    {
     "name": "stderr",
     "output_type": "stream",
     "text": [
      " 11%|█         | 54/500 [1:51:08<15:53:52, 128.32s/it]"
     ]
    },
    {
     "name": "stdout",
     "output_type": "stream",
     "text": [
      "Episode: 54/500, Score: 22.10, Game Score: -5.0, Avg Score: 25.18, Epsilon: 0.050, Steps: 52, Best Score: 84.40\n"
     ]
    },
    {
     "name": "stderr",
     "output_type": "stream",
     "text": [
      " 11%|█         | 55/500 [1:52:21<13:48:52, 111.76s/it]"
     ]
    },
    {
     "name": "stdout",
     "output_type": "stream",
     "text": [
      "Episode: 55/500, Score: 11.20, Game Score: -5.0, Avg Score: 24.93, Epsilon: 0.050, Steps: 33, Best Score: 84.40\n"
     ]
    },
    {
     "name": "stderr",
     "output_type": "stream",
     "text": [
      " 11%|█         | 56/500 [1:53:03<11:12:09, 90.83s/it] "
     ]
    },
    {
     "name": "stdout",
     "output_type": "stream",
     "text": [
      "Episode: 56/500, Score: -3.20, Game Score: -5.0, Avg Score: 24.43, Epsilon: 0.050, Steps: 19, Best Score: 84.40\n"
     ]
    },
    {
     "name": "stderr",
     "output_type": "stream",
     "text": [
      " 11%|█▏        | 57/500 [1:55:18<12:49:02, 104.16s/it]"
     ]
    },
    {
     "name": "stdout",
     "output_type": "stream",
     "text": [
      "Episode: 57/500, Score: 1.10, Game Score: -5.0, Avg Score: 24.02, Epsilon: 0.050, Steps: 62, Best Score: 84.40\n"
     ]
    },
    {
     "name": "stderr",
     "output_type": "stream",
     "text": [
      " 12%|█▏        | 58/500 [1:57:33<13:55:09, 113.37s/it]"
     ]
    },
    {
     "name": "stdout",
     "output_type": "stream",
     "text": [
      "Episode: 58/500, Score: 47.60, Game Score: -5.0, Avg Score: 24.42, Epsilon: 0.050, Steps: 62, Best Score: 84.40\n"
     ]
    },
    {
     "name": "stderr",
     "output_type": "stream",
     "text": [
      " 12%|█▏        | 59/500 [1:59:50<14:44:55, 120.40s/it]"
     ]
    },
    {
     "name": "stdout",
     "output_type": "stream",
     "text": [
      "Episode: 59/500, Score: 1.10, Game Score: -5.0, Avg Score: 24.03, Epsilon: 0.050, Steps: 62, Best Score: 84.40\n"
     ]
    },
    {
     "name": "stderr",
     "output_type": "stream",
     "text": [
      " 12%|█▏        | 60/500 [2:02:09<15:23:59, 126.00s/it]"
     ]
    },
    {
     "name": "stdout",
     "output_type": "stream",
     "text": [
      "Episode: 60/500, Score: 45.10, Game Score: -5.0, Avg Score: 24.38, Epsilon: 0.050, Steps: 62, Best Score: 84.40\n",
      "Episode: 61/500, Score: -0.40, Game Score: -5.0, Avg Score: 23.97, Epsilon: 0.050, Steps: 47, Best Score: 84.40\n"
     ]
    },
    {
     "name": "stderr",
     "output_type": "stream",
     "text": [
      " 12%|█▏        | 62/500 [2:06:22<15:31:44, 127.64s/it]"
     ]
    },
    {
     "name": "stdout",
     "output_type": "stream",
     "text": [
      "Episode: 62/500, Score: 1.10, Game Score: -5.0, Avg Score: 23.60, Epsilon: 0.050, Steps: 62, Best Score: 84.40\n"
     ]
    },
    {
     "name": "stderr",
     "output_type": "stream",
     "text": [
      " 13%|█▎        | 63/500 [2:07:59<14:22:57, 118.48s/it]"
     ]
    },
    {
     "name": "stdout",
     "output_type": "stream",
     "text": [
      "Episode: 63/500, Score: -0.80, Game Score: -5.0, Avg Score: 23.22, Epsilon: 0.050, Steps: 43, Best Score: 84.40\n"
     ]
    },
    {
     "name": "stderr",
     "output_type": "stream",
     "text": [
      " 13%|█▎        | 64/500 [2:09:25<13:08:43, 108.54s/it]"
     ]
    },
    {
     "name": "stdout",
     "output_type": "stream",
     "text": [
      "Episode: 64/500, Score: -1.30, Game Score: -5.0, Avg Score: 22.83, Epsilon: 0.050, Steps: 38, Best Score: 84.40\n"
     ]
    },
    {
     "name": "stderr",
     "output_type": "stream",
     "text": [
      " 13%|█▎        | 65/500 [2:12:03<14:55:07, 123.47s/it]"
     ]
    },
    {
     "name": "stdout",
     "output_type": "stream",
     "text": [
      "Episode: 65/500, Score: 68.00, Game Score: -4.0, Avg Score: 23.53, Epsilon: 0.050, Steps: 71, Best Score: 84.40\n"
     ]
    },
    {
     "name": "stderr",
     "output_type": "stream",
     "text": [
      " 13%|█▎        | 66/500 [2:14:21<15:25:45, 127.98s/it]"
     ]
    },
    {
     "name": "stdout",
     "output_type": "stream",
     "text": [
      "Episode: 66/500, Score: 1.10, Game Score: -5.0, Avg Score: 23.19, Epsilon: 0.050, Steps: 62, Best Score: 84.40\n"
     ]
    },
    {
     "name": "stderr",
     "output_type": "stream",
     "text": [
      " 13%|█▎        | 67/500 [2:16:41<15:48:28, 131.43s/it]"
     ]
    },
    {
     "name": "stdout",
     "output_type": "stream",
     "text": [
      "Episode: 67/500, Score: 27.60, Game Score: -5.0, Avg Score: 23.26, Epsilon: 0.050, Steps: 62, Best Score: 84.40\n"
     ]
    },
    {
     "name": "stderr",
     "output_type": "stream",
     "text": [
      " 14%|█▎        | 68/500 [2:18:58<15:59:05, 133.21s/it]"
     ]
    },
    {
     "name": "stdout",
     "output_type": "stream",
     "text": [
      "Episode: 68/500, Score: 11.10, Game Score: -5.0, Avg Score: 23.08, Epsilon: 0.050, Steps: 62, Best Score: 84.40\n"
     ]
    },
    {
     "name": "stderr",
     "output_type": "stream",
     "text": [
      " 14%|█▍        | 69/500 [2:19:40<12:40:22, 105.85s/it]"
     ]
    },
    {
     "name": "stdout",
     "output_type": "stream",
     "text": [
      "Episode: 69/500, Score: -3.20, Game Score: -5.0, Avg Score: 22.70, Epsilon: 0.050, Steps: 19, Best Score: 84.40\n"
     ]
    },
    {
     "name": "stderr",
     "output_type": "stream",
     "text": [
      " 14%|█▍        | 70/500 [2:21:04<11:51:42, 99.31s/it] "
     ]
    },
    {
     "name": "stdout",
     "output_type": "stream",
     "text": [
      "Episode: 70/500, Score: -1.30, Game Score: -5.0, Avg Score: 22.35, Epsilon: 0.050, Steps: 38, Best Score: 84.40\n",
      "Episode: 71/500, Score: 62.60, Game Score: -5.0, Avg Score: 22.92, Epsilon: 0.050, Steps: 62, Best Score: 84.40\n"
     ]
    },
    {
     "name": "stderr",
     "output_type": "stream",
     "text": [
      " 14%|█▍        | 72/500 [2:25:39<14:06:26, 118.66s/it]"
     ]
    },
    {
     "name": "stdout",
     "output_type": "stream",
     "text": [
      "Episode: 72/500, Score: 1.10, Game Score: -5.0, Avg Score: 22.62, Epsilon: 0.050, Steps: 62, Best Score: 84.40\n"
     ]
    },
    {
     "name": "stderr",
     "output_type": "stream",
     "text": [
      " 15%|█▍        | 73/500 [2:28:20<15:35:56, 131.51s/it]"
     ]
    },
    {
     "name": "stdout",
     "output_type": "stream",
     "text": [
      "Episode: 73/500, Score: 48.70, Game Score: -4.0, Avg Score: 22.97, Epsilon: 0.050, Steps: 73, Best Score: 84.40\n"
     ]
    },
    {
     "name": "stderr",
     "output_type": "stream",
     "text": [
      " 15%|█▍        | 74/500 [2:30:38<15:46:04, 133.25s/it]"
     ]
    },
    {
     "name": "stdout",
     "output_type": "stream",
     "text": [
      "Episode: 74/500, Score: 3.10, Game Score: -5.0, Avg Score: 22.71, Epsilon: 0.050, Steps: 62, Best Score: 84.40\n"
     ]
    },
    {
     "name": "stderr",
     "output_type": "stream",
     "text": [
      " 15%|█▌        | 75/500 [2:31:50<13:33:54, 114.90s/it]"
     ]
    },
    {
     "name": "stdout",
     "output_type": "stream",
     "text": [
      "Episode: 75/500, Score: -1.80, Game Score: -5.0, Avg Score: 22.38, Epsilon: 0.050, Steps: 33, Best Score: 84.40\n"
     ]
    },
    {
     "name": "stderr",
     "output_type": "stream",
     "text": [
      " 15%|█▌        | 76/500 [2:34:18<14:42:56, 124.94s/it]"
     ]
    },
    {
     "name": "stdout",
     "output_type": "stream",
     "text": [
      "Episode: 76/500, Score: 98.70, Game Score: -4.0, Avg Score: 23.38, Epsilon: 0.050, Steps: 68, Best Score: 98.70\n"
     ]
    },
    {
     "name": "stderr",
     "output_type": "stream",
     "text": [
      " 15%|█▌        | 77/500 [2:36:34<15:03:24, 128.14s/it]"
     ]
    },
    {
     "name": "stdout",
     "output_type": "stream",
     "text": [
      "Episode: 77/500, Score: 1.10, Game Score: -5.0, Avg Score: 23.09, Epsilon: 0.050, Steps: 62, Best Score: 98.70\n"
     ]
    },
    {
     "name": "stderr",
     "output_type": "stream",
     "text": [
      " 16%|█▌        | 78/500 [2:38:49<15:15:51, 130.22s/it]"
     ]
    },
    {
     "name": "stdout",
     "output_type": "stream",
     "text": [
      "Episode: 78/500, Score: 6.10, Game Score: -5.0, Avg Score: 22.88, Epsilon: 0.050, Steps: 62, Best Score: 98.70\n"
     ]
    },
    {
     "name": "stderr",
     "output_type": "stream",
     "text": [
      " 16%|█▌        | 79/500 [2:39:45<12:38:35, 108.11s/it]"
     ]
    },
    {
     "name": "stdout",
     "output_type": "stream",
     "text": [
      "Episode: 79/500, Score: 9.50, Game Score: -5.0, Avg Score: 22.71, Epsilon: 0.050, Steps: 26, Best Score: 98.70\n"
     ]
    },
    {
     "name": "stderr",
     "output_type": "stream",
     "text": [
      " 16%|█▌        | 80/500 [2:42:09<13:51:24, 118.77s/it]"
     ]
    },
    {
     "name": "stdout",
     "output_type": "stream",
     "text": [
      "Episode: 80/500, Score: 30.50, Game Score: -4.0, Avg Score: 22.80, Epsilon: 0.050, Steps: 66, Best Score: 98.70\n",
      "Episode: 81/500, Score: 2.60, Game Score: -5.0, Avg Score: 22.55, Epsilon: 0.050, Steps: 62, Best Score: 98.70\n"
     ]
    },
    {
     "name": "stderr",
     "output_type": "stream",
     "text": [
      " 16%|█▋        | 82/500 [2:45:52<13:06:54, 112.95s/it]"
     ]
    },
    {
     "name": "stdout",
     "output_type": "stream",
     "text": [
      "Episode: 82/500, Score: 4.90, Game Score: -5.0, Avg Score: 22.34, Epsilon: 0.050, Steps: 40, Best Score: 98.70\n"
     ]
    },
    {
     "name": "stderr",
     "output_type": "stream",
     "text": [
      " 17%|█▋        | 83/500 [2:47:38<12:49:24, 110.71s/it]"
     ]
    },
    {
     "name": "stdout",
     "output_type": "stream",
     "text": [
      "Episode: 83/500, Score: 40.70, Game Score: -5.0, Avg Score: 22.56, Epsilon: 0.050, Steps: 48, Best Score: 98.70\n"
     ]
    },
    {
     "name": "stderr",
     "output_type": "stream",
     "text": [
      " 17%|█▋        | 84/500 [2:48:54<11:36:19, 100.43s/it]"
     ]
    },
    {
     "name": "stdout",
     "output_type": "stream",
     "text": [
      "Episode: 84/500, Score: 33.40, Game Score: -5.0, Avg Score: 22.69, Epsilon: 0.050, Steps: 35, Best Score: 98.70\n"
     ]
    },
    {
     "name": "stderr",
     "output_type": "stream",
     "text": [
      " 17%|█▋        | 85/500 [2:51:09<12:46:24, 110.81s/it]"
     ]
    },
    {
     "name": "stdout",
     "output_type": "stream",
     "text": [
      "Episode: 85/500, Score: 5.10, Game Score: -5.0, Avg Score: 22.48, Epsilon: 0.050, Steps: 62, Best Score: 98.70\n"
     ]
    },
    {
     "name": "stderr",
     "output_type": "stream",
     "text": [
      " 17%|█▋        | 86/500 [2:53:24<13:34:46, 118.08s/it]"
     ]
    },
    {
     "name": "stdout",
     "output_type": "stream",
     "text": [
      "Episode: 86/500, Score: 47.60, Game Score: -5.0, Avg Score: 22.77, Epsilon: 0.050, Steps: 62, Best Score: 98.70\n"
     ]
    },
    {
     "name": "stderr",
     "output_type": "stream",
     "text": [
      " 17%|█▋        | 87/500 [2:55:41<14:11:19, 123.68s/it]"
     ]
    },
    {
     "name": "stdout",
     "output_type": "stream",
     "text": [
      "Episode: 87/500, Score: 24.60, Game Score: -5.0, Avg Score: 22.80, Epsilon: 0.050, Steps: 62, Best Score: 98.70\n"
     ]
    },
    {
     "name": "stderr",
     "output_type": "stream",
     "text": [
      " 18%|█▊        | 88/500 [2:57:26<13:31:31, 118.18s/it]"
     ]
    },
    {
     "name": "stdout",
     "output_type": "stream",
     "text": [
      "Episode: 88/500, Score: 28.50, Game Score: -5.0, Avg Score: 22.86, Epsilon: 0.050, Steps: 46, Best Score: 98.70\n"
     ]
    },
    {
     "name": "stderr",
     "output_type": "stream",
     "text": [
      " 18%|█▊        | 89/500 [2:59:45<14:12:16, 124.42s/it]"
     ]
    },
    {
     "name": "stdout",
     "output_type": "stream",
     "text": [
      "Episode: 89/500, Score: 5.10, Game Score: -5.0, Avg Score: 22.66, Epsilon: 0.050, Steps: 62, Best Score: 98.70\n"
     ]
    },
    {
     "name": "stderr",
     "output_type": "stream",
     "text": [
      " 18%|█▊        | 90/500 [3:02:04<14:39:24, 128.69s/it]"
     ]
    },
    {
     "name": "stdout",
     "output_type": "stream",
     "text": [
      "Episode: 90/500, Score: 8.10, Game Score: -5.0, Avg Score: 22.50, Epsilon: 0.050, Steps: 62, Best Score: 98.70\n",
      "Episode: 91/500, Score: 22.60, Game Score: -5.0, Avg Score: 22.50, Epsilon: 0.050, Steps: 62, Best Score: 98.70\n"
     ]
    },
    {
     "name": "stderr",
     "output_type": "stream",
     "text": [
      " 18%|█▊        | 92/500 [3:06:22<14:25:56, 127.35s/it]"
     ]
    },
    {
     "name": "stdout",
     "output_type": "stream",
     "text": [
      "Episode: 92/500, Score: 48.80, Game Score: -5.0, Avg Score: 22.79, Epsilon: 0.050, Steps: 49, Best Score: 98.70\n"
     ]
    },
    {
     "name": "stderr",
     "output_type": "stream",
     "text": [
      " 19%|█▊        | 93/500 [3:08:15<13:55:49, 123.22s/it]"
     ]
    },
    {
     "name": "stdout",
     "output_type": "stream",
     "text": [
      "Episode: 93/500, Score: 20.30, Game Score: -5.0, Avg Score: 22.76, Epsilon: 0.050, Steps: 49, Best Score: 98.70\n"
     ]
    },
    {
     "name": "stderr",
     "output_type": "stream",
     "text": [
      " 19%|█▉        | 94/500 [3:11:02<15:23:24, 136.46s/it]"
     ]
    },
    {
     "name": "stdout",
     "output_type": "stream",
     "text": [
      "Episode: 94/500, Score: 50.60, Game Score: -4.0, Avg Score: 23.06, Epsilon: 0.050, Steps: 72, Best Score: 98.70\n"
     ]
    },
    {
     "name": "stderr",
     "output_type": "stream",
     "text": [
      " 19%|█▉        | 95/500 [3:12:19<13:19:08, 118.39s/it]"
     ]
    },
    {
     "name": "stdout",
     "output_type": "stream",
     "text": [
      "Episode: 95/500, Score: -1.80, Game Score: -5.0, Avg Score: 22.79, Epsilon: 0.050, Steps: 33, Best Score: 98.70\n"
     ]
    },
    {
     "name": "stderr",
     "output_type": "stream",
     "text": [
      " 19%|█▉        | 96/500 [3:15:02<14:47:28, 131.80s/it]"
     ]
    },
    {
     "name": "stdout",
     "output_type": "stream",
     "text": [
      "Episode: 96/500, Score: 98.90, Game Score: -4.0, Avg Score: 23.59, Epsilon: 0.050, Steps: 70, Best Score: 98.90\n"
     ]
    },
    {
     "name": "stderr",
     "output_type": "stream",
     "text": [
      " 19%|█▉        | 97/500 [3:17:27<15:11:31, 135.71s/it]"
     ]
    },
    {
     "name": "stdout",
     "output_type": "stream",
     "text": [
      "Episode: 97/500, Score: 4.60, Game Score: -5.0, Avg Score: 23.39, Epsilon: 0.050, Steps: 62, Best Score: 98.90\n"
     ]
    },
    {
     "name": "stderr",
     "output_type": "stream",
     "text": [
      " 20%|█▉        | 98/500 [3:19:02<13:47:20, 123.48s/it]"
     ]
    },
    {
     "name": "stdout",
     "output_type": "stream",
     "text": [
      "Episode: 98/500, Score: 6.00, Game Score: -5.0, Avg Score: 23.21, Epsilon: 0.050, Steps: 41, Best Score: 98.90\n"
     ]
    },
    {
     "name": "stderr",
     "output_type": "stream",
     "text": [
      " 20%|█▉        | 99/500 [3:20:32<12:38:31, 113.50s/it]"
     ]
    },
    {
     "name": "stdout",
     "output_type": "stream",
     "text": [
      "Episode: 99/500, Score: 29.80, Game Score: -5.0, Avg Score: 23.28, Epsilon: 0.050, Steps: 39, Best Score: 98.90\n"
     ]
    },
    {
     "name": "stderr",
     "output_type": "stream",
     "text": [
      " 20%|██        | 100/500 [3:21:15<10:16:41, 92.50s/it]"
     ]
    },
    {
     "name": "stdout",
     "output_type": "stream",
     "text": [
      "Episode: 100/500, Score: -3.20, Game Score: -5.0, Avg Score: 23.02, Epsilon: 0.050, Steps: 19, Best Score: 98.90\n",
      "Episode: 101/500, Score: -0.70, Game Score: -5.0, Avg Score: 22.81, Epsilon: 0.050, Steps: 44, Best Score: 98.90\n"
     ]
    },
    {
     "name": "stderr",
     "output_type": "stream",
     "text": [
      " 20%|██        | 102/500 [3:25:20<12:07:51, 109.73s/it]"
     ]
    },
    {
     "name": "stdout",
     "output_type": "stream",
     "text": [
      "Episode: 102/500, Score: 5.10, Game Score: -5.0, Avg Score: 22.44, Epsilon: 0.050, Steps: 62, Best Score: 98.90\n"
     ]
    },
    {
     "name": "stderr",
     "output_type": "stream",
     "text": [
      " 21%|██        | 103/500 [3:28:21<14:25:53, 130.87s/it]"
     ]
    },
    {
     "name": "stdout",
     "output_type": "stream",
     "text": [
      "Episode: 103/500, Score: 66.70, Game Score: -4.0, Avg Score: 22.91, Epsilon: 0.050, Steps: 78, Best Score: 98.90\n"
     ]
    },
    {
     "name": "stderr",
     "output_type": "stream",
     "text": [
      " 21%|██        | 104/500 [3:30:44<14:49:02, 134.70s/it]"
     ]
    },
    {
     "name": "stdout",
     "output_type": "stream",
     "text": [
      "Episode: 104/500, Score: 32.60, Game Score: -5.0, Avg Score: 23.12, Epsilon: 0.050, Steps: 62, Best Score: 98.90\n"
     ]
    },
    {
     "name": "stderr",
     "output_type": "stream",
     "text": [
      " 21%|██        | 105/500 [3:33:08<15:04:04, 137.33s/it]"
     ]
    },
    {
     "name": "stdout",
     "output_type": "stream",
     "text": [
      "Episode: 105/500, Score: 23.10, Game Score: -5.0, Avg Score: 23.15, Epsilon: 0.050, Steps: 62, Best Score: 98.90\n"
     ]
    },
    {
     "name": "stderr",
     "output_type": "stream",
     "text": [
      " 21%|██        | 106/500 [3:34:40<13:33:02, 123.81s/it]"
     ]
    },
    {
     "name": "stdout",
     "output_type": "stream",
     "text": [
      "Episode: 106/500, Score: 21.90, Game Score: -5.0, Avg Score: 23.26, Epsilon: 0.050, Steps: 40, Best Score: 98.90\n"
     ]
    },
    {
     "name": "stderr",
     "output_type": "stream",
     "text": [
      " 21%|██▏       | 107/500 [3:37:05<14:12:22, 130.13s/it]"
     ]
    },
    {
     "name": "stdout",
     "output_type": "stream",
     "text": [
      "Episode: 107/500, Score: 34.60, Game Score: -5.0, Avg Score: 23.40, Epsilon: 0.050, Steps: 62, Best Score: 98.90\n"
     ]
    },
    {
     "name": "stderr",
     "output_type": "stream",
     "text": [
      " 22%|██▏       | 108/500 [3:38:56<13:32:07, 124.31s/it]"
     ]
    },
    {
     "name": "stdout",
     "output_type": "stream",
     "text": [
      "Episode: 108/500, Score: -0.30, Game Score: -5.0, Avg Score: 23.22, Epsilon: 0.050, Steps: 48, Best Score: 98.90\n"
     ]
    },
    {
     "name": "stderr",
     "output_type": "stream",
     "text": [
      " 22%|██▏       | 109/500 [3:41:18<14:06:01, 129.82s/it]"
     ]
    },
    {
     "name": "stdout",
     "output_type": "stream",
     "text": [
      "Episode: 109/500, Score: 36.10, Game Score: -5.0, Avg Score: 23.45, Epsilon: 0.050, Steps: 62, Best Score: 98.90\n"
     ]
    },
    {
     "name": "stderr",
     "output_type": "stream",
     "text": [
      " 22%|██▏       | 110/500 [3:43:04<13:17:38, 122.71s/it]"
     ]
    },
    {
     "name": "stdout",
     "output_type": "stream",
     "text": [
      "Episode: 110/500, Score: 30.50, Game Score: -5.0, Avg Score: 23.53, Epsilon: 0.050, Steps: 46, Best Score: 98.90\n",
      "Episode: 111/500, Score: 1.20, Game Score: -5.0, Avg Score: 23.37, Epsilon: 0.050, Steps: 38, Best Score: 98.90\n"
     ]
    },
    {
     "name": "stderr",
     "output_type": "stream",
     "text": [
      " 22%|██▏       | 112/500 [3:46:57<13:08:19, 121.90s/it]"
     ]
    },
    {
     "name": "stdout",
     "output_type": "stream",
     "text": [
      "Episode: 112/500, Score: 49.60, Game Score: -5.0, Avg Score: 23.64, Epsilon: 0.050, Steps: 62, Best Score: 98.90\n"
     ]
    },
    {
     "name": "stderr",
     "output_type": "stream",
     "text": [
      " 23%|██▎       | 113/500 [3:49:20<13:47:00, 128.22s/it]"
     ]
    },
    {
     "name": "stdout",
     "output_type": "stream",
     "text": [
      "Episode: 113/500, Score: 1.10, Game Score: -5.0, Avg Score: 23.46, Epsilon: 0.050, Steps: 62, Best Score: 98.90\n"
     ]
    },
    {
     "name": "stderr",
     "output_type": "stream",
     "text": [
      " 23%|██▎       | 114/500 [3:50:36<12:04:15, 112.58s/it]"
     ]
    },
    {
     "name": "stdout",
     "output_type": "stream",
     "text": [
      "Episode: 114/500, Score: -1.80, Game Score: -5.0, Avg Score: 22.60, Epsilon: 0.050, Steps: 33, Best Score: 98.90\n"
     ]
    },
    {
     "name": "stderr",
     "output_type": "stream",
     "text": [
      " 23%|██▎       | 115/500 [3:52:11<11:28:48, 107.35s/it]"
     ]
    },
    {
     "name": "stdout",
     "output_type": "stream",
     "text": [
      "Episode: 115/500, Score: -1.00, Game Score: -5.0, Avg Score: 22.36, Epsilon: 0.050, Steps: 41, Best Score: 98.90\n"
     ]
    },
    {
     "name": "stderr",
     "output_type": "stream",
     "text": [
      " 23%|██▎       | 116/500 [3:53:52<11:13:41, 105.26s/it]"
     ]
    },
    {
     "name": "stdout",
     "output_type": "stream",
     "text": [
      "Episode: 116/500, Score: 36.20, Game Score: -5.0, Avg Score: 22.51, Epsilon: 0.050, Steps: 43, Best Score: 98.90\n"
     ]
    },
    {
     "name": "stderr",
     "output_type": "stream",
     "text": [
      " 23%|██▎       | 117/500 [3:55:57<11:49:47, 111.20s/it]"
     ]
    },
    {
     "name": "stdout",
     "output_type": "stream",
     "text": [
      "Episode: 117/500, Score: 0.30, Game Score: -5.0, Avg Score: 22.50, Epsilon: 0.050, Steps: 54, Best Score: 98.90\n"
     ]
    },
    {
     "name": "stderr",
     "output_type": "stream",
     "text": [
      " 24%|██▎       | 118/500 [3:57:18<10:50:35, 102.19s/it]"
     ]
    },
    {
     "name": "stdout",
     "output_type": "stream",
     "text": [
      "Episode: 118/500, Score: 18.40, Game Score: -5.0, Avg Score: 22.52, Epsilon: 0.050, Steps: 35, Best Score: 98.90\n"
     ]
    },
    {
     "name": "stderr",
     "output_type": "stream",
     "text": [
      " 24%|██▍       | 119/500 [3:59:41<12:07:51, 114.62s/it]"
     ]
    },
    {
     "name": "stdout",
     "output_type": "stream",
     "text": [
      "Episode: 119/500, Score: 23.10, Game Score: -5.0, Avg Score: 22.47, Epsilon: 0.050, Steps: 62, Best Score: 98.90\n"
     ]
    },
    {
     "name": "stderr",
     "output_type": "stream",
     "text": [
      " 24%|██▍       | 120/500 [4:02:37<14:01:39, 132.89s/it]"
     ]
    },
    {
     "name": "stdout",
     "output_type": "stream",
     "text": [
      "Episode: 120/500, Score: 77.90, Game Score: -4.0, Avg Score: 23.03, Epsilon: 0.050, Steps: 75, Best Score: 98.90\n",
      "Episode: 121/500, Score: 38.10, Game Score: -5.0, Avg Score: 23.22, Epsilon: 0.050, Steps: 62, Best Score: 98.90\n"
     ]
    },
    {
     "name": "stderr",
     "output_type": "stream",
     "text": [
      " 24%|██▍       | 122/500 [4:06:32<12:53:52, 122.84s/it]"
     ]
    },
    {
     "name": "stdout",
     "output_type": "stream",
     "text": [
      "Episode: 122/500, Score: -1.10, Game Score: -5.0, Avg Score: 23.02, Epsilon: 0.050, Steps: 40, Best Score: 98.90\n"
     ]
    },
    {
     "name": "stderr",
     "output_type": "stream",
     "text": [
      " 25%|██▍       | 123/500 [4:08:55<13:29:05, 128.77s/it]"
     ]
    },
    {
     "name": "stdout",
     "output_type": "stream",
     "text": [
      "Episode: 123/500, Score: 40.10, Game Score: -5.0, Avg Score: 22.95, Epsilon: 0.050, Steps: 62, Best Score: 98.90\n"
     ]
    },
    {
     "name": "stderr",
     "output_type": "stream",
     "text": [
      " 25%|██▍       | 124/500 [4:09:38<10:46:53, 103.23s/it]"
     ]
    },
    {
     "name": "stdout",
     "output_type": "stream",
     "text": [
      "Episode: 124/500, Score: -3.20, Game Score: -5.0, Avg Score: 22.64, Epsilon: 0.050, Steps: 19, Best Score: 98.90\n"
     ]
    },
    {
     "name": "stderr",
     "output_type": "stream",
     "text": [
      " 25%|██▌       | 125/500 [4:12:03<12:02:29, 115.60s/it]"
     ]
    },
    {
     "name": "stdout",
     "output_type": "stream",
     "text": [
      "Episode: 125/500, Score: 47.10, Game Score: -5.0, Avg Score: 23.08, Epsilon: 0.050, Steps: 62, Best Score: 98.90\n"
     ]
    },
    {
     "name": "stderr",
     "output_type": "stream",
     "text": [
      " 25%|██▌       | 126/500 [4:13:03<10:16:45, 98.95s/it] "
     ]
    },
    {
     "name": "stdout",
     "output_type": "stream",
     "text": [
      "Episode: 126/500, Score: -0.50, Game Score: -5.0, Avg Score: 22.48, Epsilon: 0.050, Steps: 26, Best Score: 98.90\n"
     ]
    },
    {
     "name": "stderr",
     "output_type": "stream",
     "text": [
      " 25%|██▌       | 127/500 [4:15:27<11:39:29, 112.52s/it]"
     ]
    },
    {
     "name": "stdout",
     "output_type": "stream",
     "text": [
      "Episode: 127/500, Score: 47.10, Game Score: -5.0, Avg Score: 22.31, Epsilon: 0.050, Steps: 62, Best Score: 98.90\n"
     ]
    },
    {
     "name": "stderr",
     "output_type": "stream",
     "text": [
      " 26%|██▌       | 128/500 [4:17:52<12:37:19, 122.15s/it]"
     ]
    },
    {
     "name": "stdout",
     "output_type": "stream",
     "text": [
      "Episode: 128/500, Score: 78.60, Game Score: -5.0, Avg Score: 22.61, Epsilon: 0.050, Steps: 62, Best Score: 98.90\n"
     ]
    },
    {
     "name": "stderr",
     "output_type": "stream",
     "text": [
      " 26%|██▌       | 129/500 [4:19:30<11:50:55, 114.97s/it]"
     ]
    },
    {
     "name": "stdout",
     "output_type": "stream",
     "text": [
      "Episode: 129/500, Score: 20.20, Game Score: -5.0, Avg Score: 22.62, Epsilon: 0.050, Steps: 43, Best Score: 98.90\n"
     ]
    },
    {
     "name": "stderr",
     "output_type": "stream",
     "text": [
      " 26%|██▌       | 130/500 [4:21:20<11:40:58, 113.67s/it]"
     ]
    },
    {
     "name": "stdout",
     "output_type": "stream",
     "text": [
      "Episode: 130/500, Score: 0.70, Game Score: -5.0, Avg Score: 22.56, Epsilon: 0.050, Steps: 48, Best Score: 98.90\n",
      "Episode: 131/500, Score: 41.10, Game Score: -5.0, Avg Score: 22.37, Epsilon: 0.050, Steps: 62, Best Score: 98.90\n"
     ]
    },
    {
     "name": "stderr",
     "output_type": "stream",
     "text": [
      " 26%|██▋       | 132/500 [4:24:56<10:59:18, 107.50s/it]"
     ]
    },
    {
     "name": "stdout",
     "output_type": "stream",
     "text": [
      "Episode: 132/500, Score: 35.70, Game Score: -5.0, Avg Score: 22.46, Epsilon: 0.050, Steps: 33, Best Score: 98.90\n"
     ]
    },
    {
     "name": "stderr",
     "output_type": "stream",
     "text": [
      " 27%|██▋       | 133/500 [4:27:14<11:53:42, 116.68s/it]"
     ]
    },
    {
     "name": "stdout",
     "output_type": "stream",
     "text": [
      "Episode: 133/500, Score: 46.10, Game Score: -5.0, Avg Score: 22.77, Epsilon: 0.050, Steps: 62, Best Score: 98.90\n"
     ]
    },
    {
     "name": "stderr",
     "output_type": "stream",
     "text": [
      " 27%|██▋       | 134/500 [4:30:05<13:31:29, 133.03s/it]"
     ]
    },
    {
     "name": "stdout",
     "output_type": "stream",
     "text": [
      "Episode: 134/500, Score: 130.50, Game Score: -4.0, Avg Score: 23.65, Epsilon: 0.050, Steps: 76, Best Score: 130.50\n"
     ]
    },
    {
     "name": "stderr",
     "output_type": "stream",
     "text": [
      " 27%|██▋       | 135/500 [4:30:47<10:44:06, 105.88s/it]"
     ]
    },
    {
     "name": "stdout",
     "output_type": "stream",
     "text": [
      "Episode: 135/500, Score: -3.20, Game Score: -5.0, Avg Score: 23.36, Epsilon: 0.050, Steps: 19, Best Score: 130.50\n"
     ]
    },
    {
     "name": "stderr",
     "output_type": "stream",
     "text": [
      " 27%|██▋       | 136/500 [4:33:07<11:43:18, 115.93s/it]"
     ]
    },
    {
     "name": "stdout",
     "output_type": "stream",
     "text": [
      "Episode: 136/500, Score: 6.10, Game Score: -5.0, Avg Score: 22.92, Epsilon: 0.050, Steps: 62, Best Score: 130.50\n"
     ]
    },
    {
     "name": "stderr",
     "output_type": "stream",
     "text": [
      " 27%|██▋       | 137/500 [4:35:25<12:22:19, 122.70s/it]"
     ]
    },
    {
     "name": "stdout",
     "output_type": "stream",
     "text": [
      "Episode: 137/500, Score: 43.60, Game Score: -5.0, Avg Score: 23.29, Epsilon: 0.050, Steps: 62, Best Score: 130.50\n"
     ]
    },
    {
     "name": "stderr",
     "output_type": "stream",
     "text": [
      " 28%|██▊       | 138/500 [4:37:44<12:49:04, 127.47s/it]"
     ]
    },
    {
     "name": "stdout",
     "output_type": "stream",
     "text": [
      "Episode: 138/500, Score: 7.10, Game Score: -5.0, Avg Score: 23.15, Epsilon: 0.050, Steps: 62, Best Score: 130.50\n"
     ]
    },
    {
     "name": "stderr",
     "output_type": "stream",
     "text": [
      " 28%|██▊       | 139/500 [4:40:02<13:05:51, 130.61s/it]"
     ]
    },
    {
     "name": "stdout",
     "output_type": "stream",
     "text": [
      "Episode: 139/500, Score: 26.10, Game Score: -5.0, Avg Score: 22.83, Epsilon: 0.050, Steps: 62, Best Score: 130.50\n"
     ]
    },
    {
     "name": "stderr",
     "output_type": "stream",
     "text": [
      " 28%|██▊       | 140/500 [4:42:42<13:56:44, 139.46s/it]"
     ]
    },
    {
     "name": "stdout",
     "output_type": "stream",
     "text": [
      "Episode: 140/500, Score: 101.50, Game Score: -4.0, Avg Score: 23.27, Epsilon: 0.050, Steps: 71, Best Score: 130.50\n",
      "Episode: 141/500, Score: 99.00, Game Score: -4.0, Avg Score: 23.99, Epsilon: 0.050, Steps: 76, Best Score: 130.50\n"
     ]
    },
    {
     "name": "stderr",
     "output_type": "stream",
     "text": [
      " 28%|██▊       | 142/500 [4:47:39<14:06:11, 141.82s/it]"
     ]
    },
    {
     "name": "stdout",
     "output_type": "stream",
     "text": [
      "Episode: 142/500, Score: 16.30, Game Score: -5.0, Avg Score: 23.90, Epsilon: 0.050, Steps: 54, Best Score: 130.50\n"
     ]
    },
    {
     "name": "stderr",
     "output_type": "stream",
     "text": [
      " 29%|██▊       | 143/500 [4:50:22<14:40:46, 148.03s/it]"
     ]
    },
    {
     "name": "stdout",
     "output_type": "stream",
     "text": [
      "Episode: 143/500, Score: 51.90, Game Score: -4.0, Avg Score: 24.18, Epsilon: 0.050, Steps: 70, Best Score: 130.50\n"
     ]
    },
    {
     "name": "stderr",
     "output_type": "stream",
     "text": [
      " 29%|██▉       | 144/500 [4:52:47<14:32:50, 147.11s/it]"
     ]
    },
    {
     "name": "stdout",
     "output_type": "stream",
     "text": [
      "Episode: 144/500, Score: 1.10, Game Score: -5.0, Avg Score: 24.13, Epsilon: 0.050, Steps: 62, Best Score: 130.50\n"
     ]
    },
    {
     "name": "stderr",
     "output_type": "stream",
     "text": [
      " 29%|██▉       | 145/500 [4:55:11<14:25:30, 146.28s/it]"
     ]
    },
    {
     "name": "stdout",
     "output_type": "stream",
     "text": [
      "Episode: 145/500, Score: 36.60, Game Score: -5.0, Avg Score: 24.12, Epsilon: 0.050, Steps: 62, Best Score: 130.50\n"
     ]
    },
    {
     "name": "stderr",
     "output_type": "stream",
     "text": [
      " 29%|██▉       | 146/500 [4:57:33<14:15:59, 145.08s/it]"
     ]
    },
    {
     "name": "stdout",
     "output_type": "stream",
     "text": [
      "Episode: 146/500, Score: 24.10, Game Score: -5.0, Avg Score: 23.99, Epsilon: 0.050, Steps: 62, Best Score: 130.50\n"
     ]
    },
    {
     "name": "stderr",
     "output_type": "stream",
     "text": [
      " 29%|██▉       | 147/500 [4:59:58<14:12:35, 144.92s/it]"
     ]
    },
    {
     "name": "stdout",
     "output_type": "stream",
     "text": [
      "Episode: 147/500, Score: 27.10, Game Score: -5.0, Avg Score: 24.15, Epsilon: 0.050, Steps: 62, Best Score: 130.50\n"
     ]
    },
    {
     "name": "stderr",
     "output_type": "stream",
     "text": [
      " 30%|██▉       | 148/500 [5:01:16<12:13:16, 124.99s/it]"
     ]
    },
    {
     "name": "stdout",
     "output_type": "stream",
     "text": [
      "Episode: 148/500, Score: 25.20, Game Score: -5.0, Avg Score: 24.39, Epsilon: 0.050, Steps: 33, Best Score: 130.50\n"
     ]
    },
    {
     "name": "stderr",
     "output_type": "stream",
     "text": [
      " 30%|██▉       | 149/500 [5:02:46<11:08:37, 114.29s/it]"
     ]
    },
    {
     "name": "stdout",
     "output_type": "stream",
     "text": [
      "Episode: 149/500, Score: 44.70, Game Score: -5.0, Avg Score: 24.56, Epsilon: 0.050, Steps: 38, Best Score: 130.50\n"
     ]
    },
    {
     "name": "stderr",
     "output_type": "stream",
     "text": [
      " 30%|███       | 150/500 [5:03:30<9:05:04, 93.44s/it]  "
     ]
    },
    {
     "name": "stdout",
     "output_type": "stream",
     "text": [
      "Episode: 150/500, Score: -3.20, Game Score: -5.0, Avg Score: 24.55, Epsilon: 0.050, Steps: 19, Best Score: 130.50\n",
      "Episode: 151/500, Score: 0.30, Game Score: -5.0, Avg Score: 24.51, Epsilon: 0.050, Steps: 19, Best Score: 130.50\n"
     ]
    },
    {
     "name": "stderr",
     "output_type": "stream",
     "text": [
      " 30%|███       | 152/500 [5:05:00<6:38:14, 68.66s/it]"
     ]
    },
    {
     "name": "stdout",
     "output_type": "stream",
     "text": [
      "Episode: 152/500, Score: -1.70, Game Score: -5.0, Avg Score: 24.49, Epsilon: 0.050, Steps: 19, Best Score: 130.50\n"
     ]
    },
    {
     "name": "stderr",
     "output_type": "stream",
     "text": [
      " 31%|███       | 153/500 [5:07:53<9:37:42, 99.89s/it]"
     ]
    },
    {
     "name": "stdout",
     "output_type": "stream",
     "text": [
      "Episode: 153/500, Score: 85.40, Game Score: -4.0, Avg Score: 25.27, Epsilon: 0.050, Steps: 75, Best Score: 130.50\n"
     ]
    },
    {
     "name": "stderr",
     "output_type": "stream",
     "text": [
      " 31%|███       | 154/500 [5:09:20<9:14:06, 96.09s/it]"
     ]
    },
    {
     "name": "stdout",
     "output_type": "stream",
     "text": [
      "Episode: 154/500, Score: 37.20, Game Score: -5.0, Avg Score: 25.42, Epsilon: 0.050, Steps: 38, Best Score: 130.50\n"
     ]
    },
    {
     "name": "stderr",
     "output_type": "stream",
     "text": [
      " 31%|███       | 155/500 [5:11:41<10:29:36, 109.50s/it]"
     ]
    },
    {
     "name": "stdout",
     "output_type": "stream",
     "text": [
      "Episode: 155/500, Score: 44.60, Game Score: -5.0, Avg Score: 25.75, Epsilon: 0.050, Steps: 62, Best Score: 130.50\n"
     ]
    },
    {
     "name": "stderr",
     "output_type": "stream",
     "text": [
      " 31%|███       | 156/500 [5:14:02<11:21:02, 118.79s/it]"
     ]
    },
    {
     "name": "stdout",
     "output_type": "stream",
     "text": [
      "Episode: 156/500, Score: 37.60, Game Score: -5.0, Avg Score: 26.16, Epsilon: 0.050, Steps: 62, Best Score: 130.50\n"
     ]
    },
    {
     "name": "stderr",
     "output_type": "stream",
     "text": [
      " 31%|███▏      | 157/500 [5:15:17<10:04:38, 105.77s/it]"
     ]
    },
    {
     "name": "stdout",
     "output_type": "stream",
     "text": [
      "Episode: 157/500, Score: 15.20, Game Score: -5.0, Avg Score: 26.30, Epsilon: 0.050, Steps: 33, Best Score: 130.50\n"
     ]
    },
    {
     "name": "stderr",
     "output_type": "stream",
     "text": [
      " 32%|███▏      | 158/500 [5:17:42<11:09:30, 117.46s/it]"
     ]
    },
    {
     "name": "stdout",
     "output_type": "stream",
     "text": [
      "Episode: 158/500, Score: 41.10, Game Score: -5.0, Avg Score: 26.24, Epsilon: 0.050, Steps: 62, Best Score: 130.50\n"
     ]
    },
    {
     "name": "stderr",
     "output_type": "stream",
     "text": [
      " 32%|███▏      | 159/500 [5:18:28<9:06:39, 96.19s/it]  "
     ]
    },
    {
     "name": "stdout",
     "output_type": "stream",
     "text": [
      "Episode: 159/500, Score: -3.10, Game Score: -5.0, Avg Score: 26.20, Epsilon: 0.050, Steps: 20, Best Score: 130.50\n"
     ]
    },
    {
     "name": "stderr",
     "output_type": "stream",
     "text": [
      " 32%|███▏      | 160/500 [5:19:52<8:43:35, 92.40s/it]"
     ]
    },
    {
     "name": "stdout",
     "output_type": "stream",
     "text": [
      "Episode: 160/500, Score: 15.50, Game Score: -5.0, Avg Score: 25.90, Epsilon: 0.050, Steps: 36, Best Score: 130.50\n",
      "Episode: 161/500, Score: -1.60, Game Score: -5.0, Avg Score: 25.89, Epsilon: 0.050, Steps: 35, Best Score: 130.50\n"
     ]
    },
    {
     "name": "stderr",
     "output_type": "stream",
     "text": [
      " 32%|███▏      | 162/500 [5:22:38<8:14:44, 87.82s/it]"
     ]
    },
    {
     "name": "stdout",
     "output_type": "stream",
     "text": [
      "Episode: 162/500, Score: 42.60, Game Score: -5.0, Avg Score: 26.30, Epsilon: 0.050, Steps: 37, Best Score: 130.50\n"
     ]
    },
    {
     "name": "stderr",
     "output_type": "stream",
     "text": [
      " 33%|███▎      | 163/500 [5:24:59<9:43:06, 103.82s/it]"
     ]
    },
    {
     "name": "stdout",
     "output_type": "stream",
     "text": [
      "Episode: 163/500, Score: 38.60, Game Score: -5.0, Avg Score: 26.70, Epsilon: 0.050, Steps: 62, Best Score: 130.50\n"
     ]
    },
    {
     "name": "stderr",
     "output_type": "stream",
     "text": [
      " 33%|███▎      | 164/500 [5:27:38<11:13:58, 120.35s/it]"
     ]
    },
    {
     "name": "stdout",
     "output_type": "stream",
     "text": [
      "Episode: 164/500, Score: 75.40, Game Score: -4.0, Avg Score: 27.46, Epsilon: 0.050, Steps: 70, Best Score: 130.50\n"
     ]
    },
    {
     "name": "stderr",
     "output_type": "stream",
     "text": [
      " 33%|███▎      | 165/500 [5:29:19<10:39:00, 114.45s/it]"
     ]
    },
    {
     "name": "stdout",
     "output_type": "stream",
     "text": [
      "Episode: 165/500, Score: 38.30, Game Score: -5.0, Avg Score: 27.17, Epsilon: 0.050, Steps: 44, Best Score: 130.50\n"
     ]
    },
    {
     "name": "stderr",
     "output_type": "stream",
     "text": [
      " 33%|███▎      | 166/500 [5:30:02<8:38:23, 93.12s/it]  "
     ]
    },
    {
     "name": "stdout",
     "output_type": "stream",
     "text": [
      "Episode: 166/500, Score: -3.20, Game Score: -5.0, Avg Score: 27.12, Epsilon: 0.050, Steps: 19, Best Score: 130.50\n"
     ]
    },
    {
     "name": "stderr",
     "output_type": "stream",
     "text": [
      " 33%|███▎      | 167/500 [5:31:51<9:02:16, 97.71s/it]"
     ]
    },
    {
     "name": "stdout",
     "output_type": "stream",
     "text": [
      "Episode: 167/500, Score: 16.70, Game Score: -5.0, Avg Score: 27.01, Epsilon: 0.050, Steps: 48, Best Score: 130.50\n"
     ]
    },
    {
     "name": "stderr",
     "output_type": "stream",
     "text": [
      " 34%|███▎      | 168/500 [5:34:27<10:37:25, 115.20s/it]"
     ]
    },
    {
     "name": "stdout",
     "output_type": "stream",
     "text": [
      "Episode: 168/500, Score: 43.40, Game Score: -4.0, Avg Score: 27.34, Epsilon: 0.050, Steps: 70, Best Score: 130.50\n"
     ]
    },
    {
     "name": "stderr",
     "output_type": "stream",
     "text": [
      " 34%|███▍      | 169/500 [5:35:39<9:25:27, 102.50s/it] "
     ]
    },
    {
     "name": "stdout",
     "output_type": "stream",
     "text": [
      "Episode: 169/500, Score: 18.20, Game Score: -5.0, Avg Score: 27.55, Epsilon: 0.050, Steps: 33, Best Score: 130.50\n"
     ]
    },
    {
     "name": "stderr",
     "output_type": "stream",
     "text": [
      " 34%|███▍      | 170/500 [5:36:22<7:44:24, 84.44s/it] "
     ]
    },
    {
     "name": "stdout",
     "output_type": "stream",
     "text": [
      "Episode: 170/500, Score: -1.20, Game Score: -5.0, Avg Score: 27.55, Epsilon: 0.050, Steps: 19, Best Score: 130.50\n",
      "Episode: 171/500, Score: 0.40, Game Score: -5.0, Avg Score: 26.93, Epsilon: 0.050, Steps: 55, Best Score: 130.50\n"
     ]
    },
    {
     "name": "stderr",
     "output_type": "stream",
     "text": [
      " 34%|███▍      | 172/500 [5:39:09<7:19:20, 80.37s/it]"
     ]
    },
    {
     "name": "stdout",
     "output_type": "stream",
     "text": [
      "Episode: 172/500, Score: -3.20, Game Score: -5.0, Avg Score: 26.89, Epsilon: 0.050, Steps: 19, Best Score: 130.50\n"
     ]
    },
    {
     "name": "stderr",
     "output_type": "stream",
     "text": [
      " 35%|███▍      | 173/500 [5:41:32<9:00:17, 99.14s/it]"
     ]
    },
    {
     "name": "stdout",
     "output_type": "stream",
     "text": [
      "Episode: 173/500, Score: 1.10, Game Score: -5.0, Avg Score: 26.41, Epsilon: 0.050, Steps: 62, Best Score: 130.50\n"
     ]
    },
    {
     "name": "stderr",
     "output_type": "stream",
     "text": [
      " 35%|███▍      | 174/500 [5:42:47<8:19:32, 91.94s/it]"
     ]
    },
    {
     "name": "stdout",
     "output_type": "stream",
     "text": [
      "Episode: 174/500, Score: 4.20, Game Score: -5.0, Avg Score: 26.42, Epsilon: 0.050, Steps: 33, Best Score: 130.50\n"
     ]
    },
    {
     "name": "stderr",
     "output_type": "stream",
     "text": [
      " 35%|███▌      | 175/500 [5:45:12<9:44:10, 107.85s/it]"
     ]
    },
    {
     "name": "stdout",
     "output_type": "stream",
     "text": [
      "Episode: 175/500, Score: 31.60, Game Score: -5.0, Avg Score: 26.76, Epsilon: 0.050, Steps: 62, Best Score: 130.50\n"
     ]
    },
    {
     "name": "stderr",
     "output_type": "stream",
     "text": [
      " 35%|███▌      | 176/500 [5:46:53<9:31:35, 105.85s/it]"
     ]
    },
    {
     "name": "stdout",
     "output_type": "stream",
     "text": [
      "Episode: 176/500, Score: 5.30, Game Score: -5.0, Avg Score: 25.82, Epsilon: 0.050, Steps: 44, Best Score: 130.50\n"
     ]
    },
    {
     "name": "stderr",
     "output_type": "stream",
     "text": [
      " 35%|███▌      | 177/500 [5:47:38<7:51:16, 87.54s/it] "
     ]
    },
    {
     "name": "stdout",
     "output_type": "stream",
     "text": [
      "Episode: 177/500, Score: 6.80, Game Score: -5.0, Avg Score: 25.88, Epsilon: 0.050, Steps: 19, Best Score: 130.50\n"
     ]
    },
    {
     "name": "stderr",
     "output_type": "stream",
     "text": [
      " 36%|███▌      | 178/500 [5:50:01<9:19:49, 104.31s/it]"
     ]
    },
    {
     "name": "stdout",
     "output_type": "stream",
     "text": [
      "Episode: 178/500, Score: 7.10, Game Score: -5.0, Avg Score: 25.89, Epsilon: 0.050, Steps: 62, Best Score: 130.50\n"
     ]
    },
    {
     "name": "stderr",
     "output_type": "stream",
     "text": [
      " 36%|███▌      | 179/500 [5:51:50<9:24:35, 105.53s/it]"
     ]
    },
    {
     "name": "stdout",
     "output_type": "stream",
     "text": [
      "Episode: 179/500, Score: 40.10, Game Score: -5.0, Avg Score: 26.20, Epsilon: 0.050, Steps: 47, Best Score: 130.50\n"
     ]
    },
    {
     "name": "stderr",
     "output_type": "stream",
     "text": [
      " 36%|███▌      | 180/500 [5:53:10<8:41:50, 97.85s/it] "
     ]
    },
    {
     "name": "stdout",
     "output_type": "stream",
     "text": [
      "Episode: 180/500, Score: -1.60, Game Score: -5.0, Avg Score: 25.87, Epsilon: 0.050, Steps: 35, Best Score: 130.50\n",
      "Episode: 181/500, Score: 36.40, Game Score: -5.0, Avg Score: 26.21, Epsilon: 0.050, Steps: 35, Best Score: 130.50\n"
     ]
    },
    {
     "name": "stderr",
     "output_type": "stream",
     "text": [
      " 36%|███▋      | 182/500 [5:56:52<9:28:41, 107.30s/it]"
     ]
    },
    {
     "name": "stdout",
     "output_type": "stream",
     "text": [
      "Episode: 182/500, Score: 1.10, Game Score: -5.0, Avg Score: 26.17, Epsilon: 0.050, Steps: 62, Best Score: 130.50\n"
     ]
    },
    {
     "name": "stderr",
     "output_type": "stream",
     "text": [
      " 37%|███▋      | 183/500 [5:59:14<10:21:47, 117.69s/it]"
     ]
    },
    {
     "name": "stdout",
     "output_type": "stream",
     "text": [
      "Episode: 183/500, Score: 31.60, Game Score: -5.0, Avg Score: 26.08, Epsilon: 0.050, Steps: 62, Best Score: 130.50\n"
     ]
    },
    {
     "name": "stderr",
     "output_type": "stream",
     "text": [
      " 37%|███▋      | 184/500 [6:02:00<11:37:00, 132.34s/it]"
     ]
    },
    {
     "name": "stdout",
     "output_type": "stream",
     "text": [
      "Episode: 184/500, Score: 68.10, Game Score: -4.0, Avg Score: 26.43, Epsilon: 0.050, Steps: 72, Best Score: 130.50\n"
     ]
    },
    {
     "name": "stderr",
     "output_type": "stream",
     "text": [
      " 37%|███▋      | 185/500 [6:03:50<10:58:34, 125.44s/it]"
     ]
    },
    {
     "name": "stdout",
     "output_type": "stream",
     "text": [
      "Episode: 185/500, Score: 23.60, Game Score: -5.0, Avg Score: 26.62, Epsilon: 0.050, Steps: 47, Best Score: 130.50\n"
     ]
    },
    {
     "name": "stderr",
     "output_type": "stream",
     "text": [
      " 37%|███▋      | 186/500 [6:06:12<11:23:35, 130.62s/it]"
     ]
    },
    {
     "name": "stdout",
     "output_type": "stream",
     "text": [
      "Episode: 186/500, Score: 41.10, Game Score: -5.0, Avg Score: 26.55, Epsilon: 0.050, Steps: 62, Best Score: 130.50\n"
     ]
    },
    {
     "name": "stderr",
     "output_type": "stream",
     "text": [
      " 37%|███▋      | 187/500 [6:07:03<9:15:56, 106.57s/it] "
     ]
    },
    {
     "name": "stdout",
     "output_type": "stream",
     "text": [
      "Episode: 187/500, Score: 0.10, Game Score: -5.0, Avg Score: 26.31, Epsilon: 0.050, Steps: 22, Best Score: 130.50\n"
     ]
    },
    {
     "name": "stderr",
     "output_type": "stream",
     "text": [
      " 38%|███▊      | 188/500 [6:08:30<8:44:04, 100.78s/it]"
     ]
    },
    {
     "name": "stdout",
     "output_type": "stream",
     "text": [
      "Episode: 188/500, Score: -1.30, Game Score: -5.0, Avg Score: 26.01, Epsilon: 0.050, Steps: 38, Best Score: 130.50\n"
     ]
    },
    {
     "name": "stderr",
     "output_type": "stream",
     "text": [
      " 38%|███▊      | 189/500 [6:09:50<8:09:49, 94.50s/it] "
     ]
    },
    {
     "name": "stdout",
     "output_type": "stream",
     "text": [
      "Episode: 189/500, Score: 36.40, Game Score: -5.0, Avg Score: 26.32, Epsilon: 0.050, Steps: 35, Best Score: 130.50\n"
     ]
    },
    {
     "name": "stderr",
     "output_type": "stream",
     "text": [
      " 38%|███▊      | 190/500 [6:12:12<9:22:41, 108.91s/it]"
     ]
    },
    {
     "name": "stdout",
     "output_type": "stream",
     "text": [
      "Episode: 190/500, Score: 23.60, Game Score: -5.0, Avg Score: 26.48, Epsilon: 0.050, Steps: 62, Best Score: 130.50\n",
      "Episode: 191/500, Score: 98.30, Game Score: -4.0, Avg Score: 27.23, Epsilon: 0.050, Steps: 74, Best Score: 130.50\n"
     ]
    },
    {
     "name": "stderr",
     "output_type": "stream",
     "text": [
      " 38%|███▊      | 192/500 [6:15:50<8:49:57, 103.24s/it] "
     ]
    },
    {
     "name": "stdout",
     "output_type": "stream",
     "text": [
      "Episode: 192/500, Score: -3.10, Game Score: -5.0, Avg Score: 26.71, Epsilon: 0.050, Steps: 20, Best Score: 130.50\n"
     ]
    },
    {
     "name": "stderr",
     "output_type": "stream",
     "text": [
      " 39%|███▊      | 193/500 [6:16:34<7:17:50, 85.57s/it] "
     ]
    },
    {
     "name": "stdout",
     "output_type": "stream",
     "text": [
      "Episode: 193/500, Score: -3.20, Game Score: -5.0, Avg Score: 26.48, Epsilon: 0.050, Steps: 19, Best Score: 130.50\n"
     ]
    },
    {
     "name": "stderr",
     "output_type": "stream",
     "text": [
      " 39%|███▉      | 194/500 [6:17:55<7:08:31, 84.03s/it]"
     ]
    },
    {
     "name": "stdout",
     "output_type": "stream",
     "text": [
      "Episode: 194/500, Score: 0.40, Game Score: -5.0, Avg Score: 25.98, Epsilon: 0.050, Steps: 35, Best Score: 130.50\n"
     ]
    },
    {
     "name": "stderr",
     "output_type": "stream",
     "text": [
      " 39%|███▉      | 195/500 [6:19:53<7:59:42, 94.37s/it]"
     ]
    },
    {
     "name": "stdout",
     "output_type": "stream",
     "text": [
      "Episode: 195/500, Score: 0.10, Game Score: -5.0, Avg Score: 26.00, Epsilon: 0.050, Steps: 52, Best Score: 130.50\n"
     ]
    },
    {
     "name": "stderr",
     "output_type": "stream",
     "text": [
      " 39%|███▉      | 196/500 [6:22:13<9:07:37, 108.08s/it]"
     ]
    },
    {
     "name": "stdout",
     "output_type": "stream",
     "text": [
      "Episode: 196/500, Score: 1.10, Game Score: -5.0, Avg Score: 25.02, Epsilon: 0.050, Steps: 62, Best Score: 130.50\n"
     ]
    },
    {
     "name": "stderr",
     "output_type": "stream",
     "text": [
      " 39%|███▉      | 197/500 [6:23:51<8:50:24, 105.03s/it]"
     ]
    },
    {
     "name": "stdout",
     "output_type": "stream",
     "text": [
      "Episode: 197/500, Score: 5.20, Game Score: -5.0, Avg Score: 25.02, Epsilon: 0.050, Steps: 43, Best Score: 130.50\n"
     ]
    },
    {
     "name": "stderr",
     "output_type": "stream",
     "text": [
      " 40%|███▉      | 198/500 [6:25:15<8:16:52, 98.72s/it] "
     ]
    },
    {
     "name": "stdout",
     "output_type": "stream",
     "text": [
      "Episode: 198/500, Score: 31.60, Game Score: -5.0, Avg Score: 25.28, Epsilon: 0.050, Steps: 37, Best Score: 130.50\n"
     ]
    },
    {
     "name": "stderr",
     "output_type": "stream",
     "text": [
      " 40%|███▉      | 199/500 [6:27:37<9:19:32, 111.54s/it]"
     ]
    },
    {
     "name": "stdout",
     "output_type": "stream",
     "text": [
      "Episode: 199/500, Score: 7.10, Game Score: -5.0, Avg Score: 25.05, Epsilon: 0.050, Steps: 62, Best Score: 130.50\n"
     ]
    },
    {
     "name": "stderr",
     "output_type": "stream",
     "text": [
      " 40%|████      | 200/500 [6:29:58<10:02:07, 120.43s/it]"
     ]
    },
    {
     "name": "stdout",
     "output_type": "stream",
     "text": [
      "Episode: 200/500, Score: 4.10, Game Score: -5.0, Avg Score: 25.13, Epsilon: 0.050, Steps: 62, Best Score: 130.50\n",
      "Episode: 201/500, Score: 1.10, Game Score: -5.0, Avg Score: 25.14, Epsilon: 0.050, Steps: 62, Best Score: 130.50\n"
     ]
    },
    {
     "name": "stderr",
     "output_type": "stream",
     "text": [
      " 40%|████      | 202/500 [6:34:42<10:52:57, 131.47s/it]"
     ]
    },
    {
     "name": "stdout",
     "output_type": "stream",
     "text": [
      "Episode: 202/500, Score: 1.10, Game Score: -5.0, Avg Score: 25.10, Epsilon: 0.050, Steps: 62, Best Score: 130.50\n"
     ]
    },
    {
     "name": "stderr",
     "output_type": "stream",
     "text": [
      " 41%|████      | 203/500 [6:37:08<11:12:10, 135.79s/it]"
     ]
    },
    {
     "name": "stdout",
     "output_type": "stream",
     "text": [
      "Episode: 203/500, Score: 11.10, Game Score: -5.0, Avg Score: 24.55, Epsilon: 0.050, Steps: 62, Best Score: 130.50\n"
     ]
    },
    {
     "name": "stderr",
     "output_type": "stream",
     "text": [
      " 41%|████      | 204/500 [6:39:34<11:25:33, 138.96s/it]"
     ]
    },
    {
     "name": "stdout",
     "output_type": "stream",
     "text": [
      "Episode: 204/500, Score: 35.60, Game Score: -5.0, Avg Score: 24.58, Epsilon: 0.050, Steps: 62, Best Score: 130.50\n"
     ]
    },
    {
     "name": "stderr",
     "output_type": "stream",
     "text": [
      " 41%|████      | 205/500 [6:42:40<12:32:26, 153.04s/it]"
     ]
    },
    {
     "name": "stdout",
     "output_type": "stream",
     "text": [
      "Episode: 205/500, Score: 116.70, Game Score: -4.0, Avg Score: 25.51, Epsilon: 0.050, Steps: 78, Best Score: 130.50\n"
     ]
    },
    {
     "name": "stderr",
     "output_type": "stream",
     "text": [
      " 41%|████      | 206/500 [6:43:58<10:39:51, 130.58s/it]"
     ]
    },
    {
     "name": "stdout",
     "output_type": "stream",
     "text": [
      "Episode: 206/500, Score: 18.20, Game Score: -5.0, Avg Score: 25.48, Epsilon: 0.050, Steps: 33, Best Score: 130.50\n"
     ]
    },
    {
     "name": "stderr",
     "output_type": "stream",
     "text": [
      " 41%|████▏     | 207/500 [6:44:43<8:32:13, 104.89s/it] "
     ]
    },
    {
     "name": "stdout",
     "output_type": "stream",
     "text": [
      "Episode: 207/500, Score: -0.70, Game Score: -5.0, Avg Score: 25.12, Epsilon: 0.050, Steps: 19, Best Score: 130.50\n"
     ]
    },
    {
     "name": "stderr",
     "output_type": "stream",
     "text": [
      " 42%|████▏     | 208/500 [6:46:35<8:39:43, 106.79s/it]"
     ]
    },
    {
     "name": "stdout",
     "output_type": "stream",
     "text": [
      "Episode: 208/500, Score: 1.60, Game Score: -5.0, Avg Score: 25.14, Epsilon: 0.050, Steps: 47, Best Score: 130.50\n"
     ]
    },
    {
     "name": "stderr",
     "output_type": "stream",
     "text": [
      " 42%|████▏     | 209/500 [6:47:54<7:58:13, 98.60s/it] "
     ]
    },
    {
     "name": "stdout",
     "output_type": "stream",
     "text": [
      "Episode: 209/500, Score: 22.20, Game Score: -5.0, Avg Score: 25.00, Epsilon: 0.050, Steps: 33, Best Score: 130.50\n"
     ]
    },
    {
     "name": "stderr",
     "output_type": "stream",
     "text": [
      " 42%|████▏     | 210/500 [6:50:22<9:07:37, 113.30s/it]"
     ]
    },
    {
     "name": "stdout",
     "output_type": "stream",
     "text": [
      "Episode: 210/500, Score: 33.60, Game Score: -5.0, Avg Score: 25.03, Epsilon: 0.050, Steps: 62, Best Score: 130.50\n",
      "Episode: 211/500, Score: 36.10, Game Score: -5.0, Avg Score: 25.38, Epsilon: 0.050, Steps: 62, Best Score: 130.50\n"
     ]
    },
    {
     "name": "stderr",
     "output_type": "stream",
     "text": [
      " 42%|████▏     | 212/500 [6:54:54<9:53:48, 123.71s/it]"
     ]
    },
    {
     "name": "stdout",
     "output_type": "stream",
     "text": [
      "Episode: 212/500, Score: 29.60, Game Score: -5.0, Avg Score: 25.18, Epsilon: 0.050, Steps: 52, Best Score: 130.50\n"
     ]
    },
    {
     "name": "stderr",
     "output_type": "stream",
     "text": [
      " 43%|████▎     | 213/500 [6:56:43<9:30:54, 119.35s/it]"
     ]
    },
    {
     "name": "stdout",
     "output_type": "stream",
     "text": [
      "Episode: 213/500, Score: 26.50, Game Score: -5.0, Avg Score: 25.44, Epsilon: 0.050, Steps: 46, Best Score: 130.50\n"
     ]
    },
    {
     "name": "stderr",
     "output_type": "stream",
     "text": [
      " 43%|████▎     | 214/500 [6:57:28<7:42:48, 97.09s/it] "
     ]
    },
    {
     "name": "stdout",
     "output_type": "stream",
     "text": [
      "Episode: 214/500, Score: -3.20, Game Score: -5.0, Avg Score: 25.42, Epsilon: 0.050, Steps: 19, Best Score: 130.50\n"
     ]
    },
    {
     "name": "stderr",
     "output_type": "stream",
     "text": [
      " 43%|████▎     | 215/500 [6:58:13<6:27:28, 81.57s/it]"
     ]
    },
    {
     "name": "stdout",
     "output_type": "stream",
     "text": [
      "Episode: 215/500, Score: -3.20, Game Score: -5.0, Avg Score: 25.40, Epsilon: 0.050, Steps: 19, Best Score: 130.50\n"
     ]
    },
    {
     "name": "stderr",
     "output_type": "stream",
     "text": [
      " 43%|████▎     | 216/500 [6:59:44<6:39:19, 84.36s/it]"
     ]
    },
    {
     "name": "stdout",
     "output_type": "stream",
     "text": [
      "Episode: 216/500, Score: -1.30, Game Score: -5.0, Avg Score: 25.03, Epsilon: 0.050, Steps: 38, Best Score: 130.50\n"
     ]
    },
    {
     "name": "stderr",
     "output_type": "stream",
     "text": [
      " 43%|████▎     | 217/500 [7:00:30<5:42:48, 72.68s/it]"
     ]
    },
    {
     "name": "stdout",
     "output_type": "stream",
     "text": [
      "Episode: 217/500, Score: -0.70, Game Score: -5.0, Avg Score: 25.02, Epsilon: 0.050, Steps: 19, Best Score: 130.50\n"
     ]
    },
    {
     "name": "stderr",
     "output_type": "stream",
     "text": [
      " 44%|████▎     | 218/500 [7:02:56<7:25:45, 94.84s/it]"
     ]
    },
    {
     "name": "stdout",
     "output_type": "stream",
     "text": [
      "Episode: 218/500, Score: 1.10, Game Score: -5.0, Avg Score: 24.84, Epsilon: 0.050, Steps: 62, Best Score: 130.50\n"
     ]
    },
    {
     "name": "stderr",
     "output_type": "stream",
     "text": [
      " 44%|████▍     | 219/500 [7:04:35<7:30:21, 96.16s/it]"
     ]
    },
    {
     "name": "stdout",
     "output_type": "stream",
     "text": [
      "Episode: 219/500, Score: 6.10, Game Score: -5.0, Avg Score: 24.67, Epsilon: 0.050, Steps: 42, Best Score: 130.50\n"
     ]
    },
    {
     "name": "stderr",
     "output_type": "stream",
     "text": [
      " 44%|████▍     | 220/500 [7:07:02<8:39:08, 111.24s/it]"
     ]
    },
    {
     "name": "stdout",
     "output_type": "stream",
     "text": [
      "Episode: 220/500, Score: 18.60, Game Score: -5.0, Avg Score: 24.08, Epsilon: 0.050, Steps: 62, Best Score: 130.50\n",
      "Episode: 221/500, Score: 66.90, Game Score: -4.0, Avg Score: 24.37, Epsilon: 0.050, Steps: 70, Best Score: 130.50\n"
     ]
    },
    {
     "name": "stderr",
     "output_type": "stream",
     "text": [
      " 44%|████▍     | 222/500 [7:11:04<8:40:24, 112.32s/it]"
     ]
    },
    {
     "name": "stdout",
     "output_type": "stream",
     "text": [
      "Episode: 222/500, Score: 32.20, Game Score: -5.0, Avg Score: 24.70, Epsilon: 0.050, Steps: 33, Best Score: 130.50\n"
     ]
    },
    {
     "name": "stderr",
     "output_type": "stream",
     "text": [
      " 45%|████▍     | 223/500 [7:12:30<8:00:47, 104.14s/it]"
     ]
    },
    {
     "name": "stdout",
     "output_type": "stream",
     "text": [
      "Episode: 223/500, Score: 4.60, Game Score: -5.0, Avg Score: 24.35, Epsilon: 0.050, Steps: 37, Best Score: 130.50\n"
     ]
    },
    {
     "name": "stderr",
     "output_type": "stream",
     "text": [
      " 45%|████▍     | 224/500 [7:13:57<7:36:09, 99.16s/it] "
     ]
    },
    {
     "name": "stdout",
     "output_type": "stream",
     "text": [
      "Episode: 224/500, Score: -1.30, Game Score: -5.0, Avg Score: 24.37, Epsilon: 0.050, Steps: 38, Best Score: 130.50\n"
     ]
    },
    {
     "name": "stderr",
     "output_type": "stream",
     "text": [
      " 45%|████▌     | 225/500 [7:14:41<6:18:13, 82.52s/it]"
     ]
    },
    {
     "name": "stdout",
     "output_type": "stream",
     "text": [
      "Episode: 225/500, Score: -3.20, Game Score: -5.0, Avg Score: 23.86, Epsilon: 0.050, Steps: 19, Best Score: 130.50\n"
     ]
    },
    {
     "name": "stderr",
     "output_type": "stream",
     "text": [
      " 45%|████▌     | 226/500 [7:17:04<7:39:42, 100.67s/it]"
     ]
    },
    {
     "name": "stdout",
     "output_type": "stream",
     "text": [
      "Episode: 226/500, Score: 1.10, Game Score: -5.0, Avg Score: 23.88, Epsilon: 0.050, Steps: 62, Best Score: 130.50\n"
     ]
    },
    {
     "name": "stderr",
     "output_type": "stream",
     "text": [
      " 45%|████▌     | 227/500 [7:19:28<8:37:09, 113.66s/it]"
     ]
    },
    {
     "name": "stdout",
     "output_type": "stream",
     "text": [
      "Episode: 227/500, Score: 14.10, Game Score: -5.0, Avg Score: 23.55, Epsilon: 0.050, Steps: 62, Best Score: 130.50\n"
     ]
    },
    {
     "name": "stderr",
     "output_type": "stream",
     "text": [
      " 46%|████▌     | 228/500 [7:22:14<9:46:25, 129.36s/it]"
     ]
    },
    {
     "name": "stdout",
     "output_type": "stream",
     "text": [
      "Episode: 228/500, Score: 78.10, Game Score: -4.0, Avg Score: 23.54, Epsilon: 0.050, Steps: 72, Best Score: 130.50\n"
     ]
    },
    {
     "name": "stderr",
     "output_type": "stream",
     "text": [
      " 46%|████▌     | 229/500 [7:24:07<9:22:29, 124.54s/it]"
     ]
    },
    {
     "name": "stdout",
     "output_type": "stream",
     "text": [
      "Episode: 229/500, Score: 19.30, Game Score: -5.0, Avg Score: 23.53, Epsilon: 0.050, Steps: 49, Best Score: 130.50\n"
     ]
    },
    {
     "name": "stderr",
     "output_type": "stream",
     "text": [
      " 46%|████▌     | 230/500 [7:26:31<9:46:58, 130.44s/it]"
     ]
    },
    {
     "name": "stdout",
     "output_type": "stream",
     "text": [
      "Episode: 230/500, Score: 14.10, Game Score: -5.0, Avg Score: 23.67, Epsilon: 0.050, Steps: 62, Best Score: 130.50\n",
      "Episode: 231/500, Score: 49.60, Game Score: -5.0, Avg Score: 23.75, Epsilon: 0.050, Steps: 62, Best Score: 130.50\n"
     ]
    },
    {
     "name": "stderr",
     "output_type": "stream",
     "text": [
      " 46%|████▋     | 232/500 [7:29:39<7:59:15, 107.30s/it] "
     ]
    },
    {
     "name": "stdout",
     "output_type": "stream",
     "text": [
      "Episode: 232/500, Score: -3.20, Game Score: -5.0, Avg Score: 23.36, Epsilon: 0.050, Steps: 19, Best Score: 130.50\n"
     ]
    },
    {
     "name": "stderr",
     "output_type": "stream",
     "text": [
      " 47%|████▋     | 233/500 [7:32:11<8:57:04, 120.69s/it]"
     ]
    },
    {
     "name": "stdout",
     "output_type": "stream",
     "text": [
      "Episode: 233/500, Score: 76.50, Game Score: -4.0, Avg Score: 23.67, Epsilon: 0.050, Steps: 66, Best Score: 130.50\n"
     ]
    },
    {
     "name": "stderr",
     "output_type": "stream",
     "text": [
      " 47%|████▋     | 234/500 [7:32:55<7:12:52, 97.64s/it] "
     ]
    },
    {
     "name": "stdout",
     "output_type": "stream",
     "text": [
      "Episode: 234/500, Score: -3.20, Game Score: -5.0, Avg Score: 22.33, Epsilon: 0.050, Steps: 19, Best Score: 130.50\n"
     ]
    },
    {
     "name": "stderr",
     "output_type": "stream",
     "text": [
      " 47%|████▋     | 235/500 [7:33:38<5:59:08, 81.32s/it]"
     ]
    },
    {
     "name": "stdout",
     "output_type": "stream",
     "text": [
      "Episode: 235/500, Score: -3.20, Game Score: -5.0, Avg Score: 22.33, Epsilon: 0.050, Steps: 19, Best Score: 130.50\n"
     ]
    },
    {
     "name": "stderr",
     "output_type": "stream",
     "text": [
      " 47%|████▋     | 236/500 [7:34:22<5:08:30, 70.11s/it]"
     ]
    },
    {
     "name": "stdout",
     "output_type": "stream",
     "text": [
      "Episode: 236/500, Score: -3.20, Game Score: -5.0, Avg Score: 22.24, Epsilon: 0.050, Steps: 19, Best Score: 130.50\n"
     ]
    },
    {
     "name": "stderr",
     "output_type": "stream",
     "text": [
      " 47%|████▋     | 237/500 [7:35:47<5:27:14, 74.65s/it]"
     ]
    },
    {
     "name": "stdout",
     "output_type": "stream",
     "text": [
      "Episode: 237/500, Score: 27.60, Game Score: -5.0, Avg Score: 22.08, Epsilon: 0.050, Steps: 37, Best Score: 130.50\n"
     ]
    },
    {
     "name": "stderr",
     "output_type": "stream",
     "text": [
      " 48%|████▊     | 238/500 [7:37:10<5:36:46, 77.12s/it]"
     ]
    },
    {
     "name": "stdout",
     "output_type": "stream",
     "text": [
      "Episode: 238/500, Score: -1.50, Game Score: -5.0, Avg Score: 21.99, Epsilon: 0.050, Steps: 36, Best Score: 130.50\n"
     ]
    },
    {
     "name": "stderr",
     "output_type": "stream",
     "text": [
      " 48%|████▊     | 239/500 [7:39:35<7:03:18, 97.31s/it]"
     ]
    },
    {
     "name": "stdout",
     "output_type": "stream",
     "text": [
      "Episode: 239/500, Score: 1.10, Game Score: -5.0, Avg Score: 21.74, Epsilon: 0.050, Steps: 62, Best Score: 130.50\n"
     ]
    },
    {
     "name": "stderr",
     "output_type": "stream",
     "text": [
      " 48%|████▊     | 240/500 [7:41:10<6:58:33, 96.59s/it]"
     ]
    },
    {
     "name": "stdout",
     "output_type": "stream",
     "text": [
      "Episode: 240/500, Score: 5.00, Game Score: -5.0, Avg Score: 20.78, Epsilon: 0.050, Steps: 41, Best Score: 130.50\n",
      "Episode: 241/500, Score: -3.20, Game Score: -5.0, Avg Score: 19.76, Epsilon: 0.050, Steps: 19, Best Score: 130.50\n"
     ]
    },
    {
     "name": "stderr",
     "output_type": "stream",
     "text": [
      " 48%|████▊     | 242/500 [7:42:38<5:00:35, 69.91s/it]"
     ]
    },
    {
     "name": "stdout",
     "output_type": "stream",
     "text": [
      "Episode: 242/500, Score: -3.20, Game Score: -5.0, Avg Score: 19.56, Epsilon: 0.050, Steps: 19, Best Score: 130.50\n"
     ]
    },
    {
     "name": "stderr",
     "output_type": "stream",
     "text": [
      " 49%|████▊     | 243/500 [7:44:26<5:48:00, 81.25s/it]"
     ]
    },
    {
     "name": "stdout",
     "output_type": "stream",
     "text": [
      "Episode: 243/500, Score: -0.50, Game Score: -5.0, Avg Score: 19.04, Epsilon: 0.050, Steps: 46, Best Score: 130.50\n"
     ]
    },
    {
     "name": "stderr",
     "output_type": "stream",
     "text": [
      " 49%|████▉     | 244/500 [7:45:11<5:00:41, 70.48s/it]"
     ]
    },
    {
     "name": "stdout",
     "output_type": "stream",
     "text": [
      "Episode: 244/500, Score: 0.30, Game Score: -5.0, Avg Score: 19.03, Epsilon: 0.050, Steps: 19, Best Score: 130.50\n"
     ]
    },
    {
     "name": "stderr",
     "output_type": "stream",
     "text": [
      " 49%|████▉     | 245/500 [7:45:56<4:26:24, 62.68s/it]"
     ]
    },
    {
     "name": "stdout",
     "output_type": "stream",
     "text": [
      "Episode: 245/500, Score: -3.20, Game Score: -5.0, Avg Score: 18.63, Epsilon: 0.050, Steps: 19, Best Score: 130.50\n"
     ]
    },
    {
     "name": "stderr",
     "output_type": "stream",
     "text": [
      " 49%|████▉     | 246/500 [7:46:40<4:02:25, 57.27s/it]"
     ]
    },
    {
     "name": "stdout",
     "output_type": "stream",
     "text": [
      "Episode: 246/500, Score: -3.20, Game Score: -5.0, Avg Score: 18.36, Epsilon: 0.050, Steps: 19, Best Score: 130.50\n"
     ]
    },
    {
     "name": "stderr",
     "output_type": "stream",
     "text": [
      " 49%|████▉     | 247/500 [7:47:58<4:27:28, 63.43s/it]"
     ]
    },
    {
     "name": "stdout",
     "output_type": "stream",
     "text": [
      "Episode: 247/500, Score: 3.20, Game Score: -5.0, Avg Score: 18.12, Epsilon: 0.050, Steps: 33, Best Score: 130.50\n"
     ]
    },
    {
     "name": "stderr",
     "output_type": "stream",
     "text": [
      " 50%|████▉     | 248/500 [7:48:41<4:00:49, 57.34s/it]"
     ]
    },
    {
     "name": "stdout",
     "output_type": "stream",
     "text": [
      "Episode: 248/500, Score: -3.20, Game Score: -5.0, Avg Score: 17.83, Epsilon: 0.050, Steps: 19, Best Score: 130.50\n"
     ]
    },
    {
     "name": "stderr",
     "output_type": "stream",
     "text": [
      " 50%|████▉     | 249/500 [7:51:05<5:48:01, 83.19s/it]"
     ]
    },
    {
     "name": "stdout",
     "output_type": "stream",
     "text": [
      "Episode: 249/500, Score: 7.10, Game Score: -5.0, Avg Score: 17.46, Epsilon: 0.050, Steps: 62, Best Score: 130.50\n"
     ]
    },
    {
     "name": "stderr",
     "output_type": "stream",
     "text": [
      " 50%|█████     | 250/500 [7:53:04<6:31:33, 93.97s/it]"
     ]
    },
    {
     "name": "stdout",
     "output_type": "stream",
     "text": [
      "Episode: 250/500, Score: 34.10, Game Score: -5.0, Avg Score: 17.83, Epsilon: 0.050, Steps: 52, Best Score: 130.50\n",
      "Episode: 251/500, Score: -3.20, Game Score: -5.0, Avg Score: 17.80, Epsilon: 0.050, Steps: 19, Best Score: 130.50\n"
     ]
    },
    {
     "name": "stderr",
     "output_type": "stream",
     "text": [
      " 50%|█████     | 252/500 [7:55:12<5:32:46, 80.51s/it]"
     ]
    },
    {
     "name": "stdout",
     "output_type": "stream",
     "text": [
      "Episode: 252/500, Score: -1.40, Game Score: -5.0, Avg Score: 17.80, Epsilon: 0.050, Steps: 37, Best Score: 130.50\n"
     ]
    },
    {
     "name": "stderr",
     "output_type": "stream",
     "text": [
      " 51%|█████     | 253/500 [7:56:30<5:28:07, 79.71s/it]"
     ]
    },
    {
     "name": "stdout",
     "output_type": "stream",
     "text": [
      "Episode: 253/500, Score: -1.70, Game Score: -5.0, Avg Score: 16.93, Epsilon: 0.050, Steps: 34, Best Score: 130.50\n"
     ]
    },
    {
     "name": "stderr",
     "output_type": "stream",
     "text": [
      " 51%|█████     | 254/500 [7:57:56<5:34:40, 81.63s/it]"
     ]
    },
    {
     "name": "stdout",
     "output_type": "stream",
     "text": [
      "Episode: 254/500, Score: -1.30, Game Score: -5.0, Avg Score: 16.54, Epsilon: 0.050, Steps: 38, Best Score: 130.50\n"
     ]
    },
    {
     "name": "stderr",
     "output_type": "stream",
     "text": [
      " 51%|█████     | 255/500 [7:58:39<4:46:26, 70.15s/it]"
     ]
    },
    {
     "name": "stdout",
     "output_type": "stream",
     "text": [
      "Episode: 255/500, Score: -3.20, Game Score: -5.0, Avg Score: 16.07, Epsilon: 0.050, Steps: 19, Best Score: 130.50\n"
     ]
    },
    {
     "name": "stderr",
     "output_type": "stream",
     "text": [
      " 51%|█████     | 256/500 [8:00:06<5:05:33, 75.14s/it]"
     ]
    },
    {
     "name": "stdout",
     "output_type": "stream",
     "text": [
      "Episode: 256/500, Score: -1.30, Game Score: -5.0, Avg Score: 15.68, Epsilon: 0.050, Steps: 38, Best Score: 130.50\n"
     ]
    },
    {
     "name": "stderr",
     "output_type": "stream",
     "text": [
      " 51%|█████▏    | 257/500 [8:02:31<6:28:35, 95.95s/it]"
     ]
    },
    {
     "name": "stdout",
     "output_type": "stream",
     "text": [
      "Episode: 257/500, Score: 1.10, Game Score: -5.0, Avg Score: 15.54, Epsilon: 0.050, Steps: 62, Best Score: 130.50\n"
     ]
    },
    {
     "name": "stderr",
     "output_type": "stream",
     "text": [
      " 52%|█████▏    | 258/500 [8:03:15<5:25:09, 80.62s/it]"
     ]
    },
    {
     "name": "stdout",
     "output_type": "stream",
     "text": [
      "Episode: 258/500, Score: -0.20, Game Score: -5.0, Avg Score: 15.12, Epsilon: 0.050, Steps: 19, Best Score: 130.50\n"
     ]
    },
    {
     "name": "stderr",
     "output_type": "stream",
     "text": [
      " 52%|█████▏    | 259/500 [8:05:13<6:08:47, 91.81s/it]"
     ]
    },
    {
     "name": "stdout",
     "output_type": "stream",
     "text": [
      "Episode: 259/500, Score: 2.00, Game Score: -5.0, Avg Score: 15.17, Epsilon: 0.050, Steps: 51, Best Score: 130.50\n"
     ]
    },
    {
     "name": "stderr",
     "output_type": "stream",
     "text": [
      " 52%|█████▏    | 260/500 [8:05:57<5:09:17, 77.32s/it]"
     ]
    },
    {
     "name": "stdout",
     "output_type": "stream",
     "text": [
      "Episode: 260/500, Score: -3.20, Game Score: -5.0, Avg Score: 14.99, Epsilon: 0.050, Steps: 19, Best Score: 130.50\n",
      "Episode: 261/500, Score: -3.20, Game Score: -5.0, Avg Score: 14.97, Epsilon: 0.050, Steps: 19, Best Score: 130.50\n"
     ]
    },
    {
     "name": "stderr",
     "output_type": "stream",
     "text": [
      " 52%|█████▏    | 262/500 [8:07:24<3:58:02, 60.01s/it]"
     ]
    },
    {
     "name": "stdout",
     "output_type": "stream",
     "text": [
      "Episode: 262/500, Score: 5.30, Game Score: -5.0, Avg Score: 14.60, Epsilon: 0.050, Steps: 19, Best Score: 130.50\n"
     ]
    },
    {
     "name": "stderr",
     "output_type": "stream",
     "text": [
      " 53%|█████▎    | 263/500 [8:08:38<4:13:32, 64.19s/it]"
     ]
    },
    {
     "name": "stdout",
     "output_type": "stream",
     "text": [
      "Episode: 263/500, Score: -1.90, Game Score: -5.0, Avg Score: 14.19, Epsilon: 0.050, Steps: 32, Best Score: 130.50\n"
     ]
    },
    {
     "name": "stderr",
     "output_type": "stream",
     "text": [
      " 53%|█████▎    | 264/500 [8:10:05<4:39:50, 71.15s/it]"
     ]
    },
    {
     "name": "stdout",
     "output_type": "stream",
     "text": [
      "Episode: 264/500, Score: 42.20, Game Score: -5.0, Avg Score: 13.86, Epsilon: 0.050, Steps: 38, Best Score: 130.50\n"
     ]
    },
    {
     "name": "stderr",
     "output_type": "stream",
     "text": [
      " 53%|█████▎    | 265/500 [8:11:29<4:54:09, 75.10s/it]"
     ]
    },
    {
     "name": "stdout",
     "output_type": "stream",
     "text": [
      "Episode: 265/500, Score: 27.60, Game Score: -5.0, Avg Score: 13.75, Epsilon: 0.050, Steps: 37, Best Score: 130.50\n"
     ]
    },
    {
     "name": "stderr",
     "output_type": "stream",
     "text": [
      " 53%|█████▎    | 266/500 [8:13:19<5:33:14, 85.45s/it]"
     ]
    },
    {
     "name": "stdout",
     "output_type": "stream",
     "text": [
      "Episode: 266/500, Score: -0.40, Game Score: -5.0, Avg Score: 13.78, Epsilon: 0.050, Steps: 47, Best Score: 130.50\n"
     ]
    },
    {
     "name": "stderr",
     "output_type": "stream",
     "text": [
      " 53%|█████▎    | 267/500 [8:14:04<4:44:36, 73.29s/it]"
     ]
    },
    {
     "name": "stdout",
     "output_type": "stream",
     "text": [
      "Episode: 267/500, Score: -3.20, Game Score: -5.0, Avg Score: 13.58, Epsilon: 0.050, Steps: 19, Best Score: 130.50\n"
     ]
    },
    {
     "name": "stderr",
     "output_type": "stream",
     "text": [
      " 54%|█████▎    | 268/500 [8:16:28<6:05:02, 94.41s/it]"
     ]
    },
    {
     "name": "stdout",
     "output_type": "stream",
     "text": [
      "Episode: 268/500, Score: 7.10, Game Score: -5.0, Avg Score: 13.22, Epsilon: 0.050, Steps: 62, Best Score: 130.50\n"
     ]
    },
    {
     "name": "stderr",
     "output_type": "stream",
     "text": [
      " 54%|█████▍    | 269/500 [8:18:12<6:15:07, 97.43s/it]"
     ]
    },
    {
     "name": "stdout",
     "output_type": "stream",
     "text": [
      "Episode: 269/500, Score: 21.40, Game Score: -5.0, Avg Score: 13.25, Epsilon: 0.050, Steps: 45, Best Score: 130.50\n"
     ]
    },
    {
     "name": "stderr",
     "output_type": "stream",
     "text": [
      " 54%|█████▍    | 270/500 [8:18:56<5:12:10, 81.43s/it]"
     ]
    },
    {
     "name": "stdout",
     "output_type": "stream",
     "text": [
      "Episode: 270/500, Score: -3.20, Game Score: -5.0, Avg Score: 13.23, Epsilon: 0.050, Steps: 19, Best Score: 130.50\n",
      "Episode: 271/500, Score: 50.10, Game Score: -5.0, Avg Score: 13.73, Epsilon: 0.050, Steps: 62, Best Score: 130.50\n"
     ]
    },
    {
     "name": "stderr",
     "output_type": "stream",
     "text": [
      " 54%|█████▍    | 272/500 [8:22:42<6:00:27, 94.86s/it]"
     ]
    },
    {
     "name": "stdout",
     "output_type": "stream",
     "text": [
      "Episode: 272/500, Score: 4.60, Game Score: -5.0, Avg Score: 13.81, Epsilon: 0.050, Steps: 37, Best Score: 130.50\n"
     ]
    },
    {
     "name": "stderr",
     "output_type": "stream",
     "text": [
      " 55%|█████▍    | 273/500 [8:24:34<6:18:53, 100.15s/it]"
     ]
    },
    {
     "name": "stdout",
     "output_type": "stream",
     "text": [
      "Episode: 273/500, Score: 39.40, Game Score: -5.0, Avg Score: 14.19, Epsilon: 0.050, Steps: 50, Best Score: 130.50\n"
     ]
    },
    {
     "name": "stderr",
     "output_type": "stream",
     "text": [
      " 55%|█████▍    | 274/500 [8:25:17<5:12:35, 82.99s/it] "
     ]
    },
    {
     "name": "stdout",
     "output_type": "stream",
     "text": [
      "Episode: 274/500, Score: -3.20, Game Score: -5.0, Avg Score: 14.12, Epsilon: 0.050, Steps: 19, Best Score: 130.50\n"
     ]
    },
    {
     "name": "stderr",
     "output_type": "stream",
     "text": [
      " 55%|█████▌    | 275/500 [8:26:38<5:08:56, 82.38s/it]"
     ]
    },
    {
     "name": "stdout",
     "output_type": "stream",
     "text": [
      "Episode: 275/500, Score: 15.50, Game Score: -5.0, Avg Score: 13.95, Epsilon: 0.050, Steps: 36, Best Score: 130.50\n"
     ]
    },
    {
     "name": "stderr",
     "output_type": "stream",
     "text": [
      " 55%|█████▌    | 276/500 [8:28:00<5:06:59, 82.23s/it]"
     ]
    },
    {
     "name": "stdout",
     "output_type": "stream",
     "text": [
      "Episode: 276/500, Score: 5.50, Game Score: -5.0, Avg Score: 13.96, Epsilon: 0.050, Steps: 36, Best Score: 130.50\n"
     ]
    },
    {
     "name": "stderr",
     "output_type": "stream",
     "text": [
      " 55%|█████▌    | 277/500 [8:29:24<5:07:20, 82.69s/it]"
     ]
    },
    {
     "name": "stdout",
     "output_type": "stream",
     "text": [
      "Episode: 277/500, Score: 2.60, Game Score: -5.0, Avg Score: 13.91, Epsilon: 0.050, Steps: 37, Best Score: 130.50\n"
     ]
    },
    {
     "name": "stderr",
     "output_type": "stream",
     "text": [
      " 56%|█████▌    | 278/500 [8:30:45<5:03:54, 82.14s/it]"
     ]
    },
    {
     "name": "stdout",
     "output_type": "stream",
     "text": [
      "Episode: 278/500, Score: 34.50, Game Score: -5.0, Avg Score: 14.19, Epsilon: 0.050, Steps: 36, Best Score: 130.50\n"
     ]
    },
    {
     "name": "stderr",
     "output_type": "stream",
     "text": [
      " 56%|█████▌    | 279/500 [8:33:05<6:06:35, 99.53s/it]"
     ]
    },
    {
     "name": "stdout",
     "output_type": "stream",
     "text": [
      "Episode: 279/500, Score: 3.10, Game Score: -5.0, Avg Score: 13.82, Epsilon: 0.050, Steps: 62, Best Score: 130.50\n"
     ]
    },
    {
     "name": "stderr",
     "output_type": "stream",
     "text": [
      " 56%|█████▌    | 280/500 [8:34:53<6:14:43, 102.20s/it]"
     ]
    },
    {
     "name": "stdout",
     "output_type": "stream",
     "text": [
      "Episode: 280/500, Score: 23.60, Game Score: -5.0, Avg Score: 14.07, Epsilon: 0.050, Steps: 47, Best Score: 130.50\n",
      "Episode: 281/500, Score: 0.90, Game Score: -5.0, Avg Score: 13.72, Epsilon: 0.050, Steps: 40, Best Score: 130.50\n"
     ]
    },
    {
     "name": "stderr",
     "output_type": "stream",
     "text": [
      " 56%|█████▋    | 282/500 [8:37:54<5:48:17, 95.86s/it] "
     ]
    },
    {
     "name": "stdout",
     "output_type": "stream",
     "text": [
      "Episode: 282/500, Score: -1.40, Game Score: -5.0, Avg Score: 13.69, Epsilon: 0.050, Steps: 37, Best Score: 130.50\n"
     ]
    },
    {
     "name": "stderr",
     "output_type": "stream",
     "text": [
      " 57%|█████▋    | 283/500 [8:38:38<4:49:54, 80.16s/it]"
     ]
    },
    {
     "name": "stdout",
     "output_type": "stream",
     "text": [
      "Episode: 283/500, Score: -3.20, Game Score: -5.0, Avg Score: 13.34, Epsilon: 0.050, Steps: 19, Best Score: 130.50\n"
     ]
    },
    {
     "name": "stderr",
     "output_type": "stream",
     "text": [
      " 57%|█████▋    | 284/500 [8:39:21<4:09:02, 69.18s/it]"
     ]
    },
    {
     "name": "stdout",
     "output_type": "stream",
     "text": [
      "Episode: 284/500, Score: 3.30, Game Score: -5.0, Avg Score: 12.69, Epsilon: 0.050, Steps: 19, Best Score: 130.50\n"
     ]
    },
    {
     "name": "stderr",
     "output_type": "stream",
     "text": [
      " 57%|█████▋    | 285/500 [8:41:43<5:26:08, 91.02s/it]"
     ]
    },
    {
     "name": "stdout",
     "output_type": "stream",
     "text": [
      "Episode: 285/500, Score: 6.10, Game Score: -5.0, Avg Score: 12.52, Epsilon: 0.050, Steps: 62, Best Score: 130.50\n"
     ]
    },
    {
     "name": "stderr",
     "output_type": "stream",
     "text": [
      " 57%|█████▋    | 286/500 [8:44:40<6:56:24, 116.75s/it]"
     ]
    },
    {
     "name": "stdout",
     "output_type": "stream",
     "text": [
      "Episode: 286/500, Score: 120.10, Game Score: -4.0, Avg Score: 13.31, Epsilon: 0.050, Steps: 77, Best Score: 130.50\n"
     ]
    },
    {
     "name": "stderr",
     "output_type": "stream",
     "text": [
      " 57%|█████▋    | 287/500 [8:45:24<5:36:24, 94.76s/it] "
     ]
    },
    {
     "name": "stdout",
     "output_type": "stream",
     "text": [
      "Episode: 287/500, Score: -3.20, Game Score: -5.0, Avg Score: 13.28, Epsilon: 0.050, Steps: 19, Best Score: 130.50\n"
     ]
    },
    {
     "name": "stderr",
     "output_type": "stream",
     "text": [
      " 58%|█████▊    | 288/500 [8:47:35<6:13:10, 105.62s/it]"
     ]
    },
    {
     "name": "stdout",
     "output_type": "stream",
     "text": [
      "Episode: 288/500, Score: 0.60, Game Score: -5.0, Avg Score: 13.30, Epsilon: 0.050, Steps: 57, Best Score: 130.50\n"
     ]
    },
    {
     "name": "stderr",
     "output_type": "stream",
     "text": [
      " 58%|█████▊    | 289/500 [8:49:47<6:39:47, 113.68s/it]"
     ]
    },
    {
     "name": "stdout",
     "output_type": "stream",
     "text": [
      "Episode: 289/500, Score: 32.20, Game Score: -5.0, Avg Score: 13.25, Epsilon: 0.050, Steps: 58, Best Score: 130.50\n"
     ]
    },
    {
     "name": "stderr",
     "output_type": "stream",
     "text": [
      " 58%|█████▊    | 290/500 [8:51:12<6:07:16, 104.94s/it]"
     ]
    },
    {
     "name": "stdout",
     "output_type": "stream",
     "text": [
      "Episode: 290/500, Score: 2.60, Game Score: -5.0, Avg Score: 13.04, Epsilon: 0.050, Steps: 37, Best Score: 130.50\n",
      "Episode: 291/500, Score: -3.20, Game Score: -5.0, Avg Score: 12.03, Epsilon: 0.050, Steps: 19, Best Score: 130.50\n"
     ]
    },
    {
     "name": "stderr",
     "output_type": "stream",
     "text": [
      " 58%|█████▊    | 292/500 [8:53:10<4:48:02, 83.09s/it] "
     ]
    },
    {
     "name": "stdout",
     "output_type": "stream",
     "text": [
      "Episode: 292/500, Score: -1.80, Game Score: -5.0, Avg Score: 12.04, Epsilon: 0.050, Steps: 33, Best Score: 130.50\n"
     ]
    },
    {
     "name": "stderr",
     "output_type": "stream",
     "text": [
      " 59%|█████▊    | 293/500 [8:54:41<4:54:54, 85.48s/it]"
     ]
    },
    {
     "name": "stdout",
     "output_type": "stream",
     "text": [
      "Episode: 293/500, Score: 39.40, Game Score: -5.0, Avg Score: 12.47, Epsilon: 0.050, Steps: 40, Best Score: 130.50\n"
     ]
    },
    {
     "name": "stderr",
     "output_type": "stream",
     "text": [
      " 59%|█████▉    | 294/500 [8:55:24<4:09:53, 72.78s/it]"
     ]
    },
    {
     "name": "stdout",
     "output_type": "stream",
     "text": [
      "Episode: 294/500, Score: -3.20, Game Score: -5.0, Avg Score: 12.43, Epsilon: 0.050, Steps: 19, Best Score: 130.50\n"
     ]
    },
    {
     "name": "stderr",
     "output_type": "stream",
     "text": [
      " 59%|█████▉    | 295/500 [8:57:29<5:01:15, 88.17s/it]"
     ]
    },
    {
     "name": "stdout",
     "output_type": "stream",
     "text": [
      "Episode: 295/500, Score: 60.40, Game Score: -5.0, Avg Score: 13.03, Epsilon: 0.050, Steps: 55, Best Score: 130.50\n"
     ]
    },
    {
     "name": "stderr",
     "output_type": "stream",
     "text": [
      " 59%|█████▉    | 296/500 [8:58:12<4:13:44, 74.63s/it]"
     ]
    },
    {
     "name": "stdout",
     "output_type": "stream",
     "text": [
      "Episode: 296/500, Score: -3.20, Game Score: -5.0, Avg Score: 12.99, Epsilon: 0.050, Steps: 19, Best Score: 130.50\n"
     ]
    },
    {
     "name": "stderr",
     "output_type": "stream",
     "text": [
      " 59%|█████▉    | 297/500 [9:00:28<5:14:50, 93.06s/it]"
     ]
    },
    {
     "name": "stdout",
     "output_type": "stream",
     "text": [
      "Episode: 297/500, Score: 34.40, Game Score: -5.0, Avg Score: 13.28, Epsilon: 0.050, Steps: 60, Best Score: 130.50\n"
     ]
    },
    {
     "name": "stderr",
     "output_type": "stream",
     "text": [
      " 60%|█████▉    | 298/500 [9:01:11<4:22:39, 78.02s/it]"
     ]
    },
    {
     "name": "stdout",
     "output_type": "stream",
     "text": [
      "Episode: 298/500, Score: -3.20, Game Score: -5.0, Avg Score: 12.94, Epsilon: 0.050, Steps: 19, Best Score: 130.50\n"
     ]
    },
    {
     "name": "stderr",
     "output_type": "stream",
     "text": [
      " 60%|█████▉    | 299/500 [9:01:53<3:45:43, 67.38s/it]"
     ]
    },
    {
     "name": "stdout",
     "output_type": "stream",
     "text": [
      "Episode: 299/500, Score: -3.20, Game Score: -5.0, Avg Score: 12.83, Epsilon: 0.050, Steps: 19, Best Score: 130.50\n"
     ]
    },
    {
     "name": "stderr",
     "output_type": "stream",
     "text": [
      " 60%|██████    | 300/500 [9:04:08<4:52:21, 87.71s/it]"
     ]
    },
    {
     "name": "stdout",
     "output_type": "stream",
     "text": [
      "Episode: 300/500, Score: 4.90, Game Score: -5.0, Avg Score: 12.84, Epsilon: 0.050, Steps: 60, Best Score: 130.50\n",
      "Episode: 301/500, Score: 1.10, Game Score: -5.0, Avg Score: 12.84, Epsilon: 0.050, Steps: 62, Best Score: 130.50\n"
     ]
    },
    {
     "name": "stderr",
     "output_type": "stream",
     "text": [
      " 60%|██████    | 302/500 [9:08:25<5:54:18, 107.36s/it]"
     ]
    },
    {
     "name": "stdout",
     "output_type": "stream",
     "text": [
      "Episode: 302/500, Score: 24.10, Game Score: -5.0, Avg Score: 13.07, Epsilon: 0.050, Steps: 52, Best Score: 130.50\n"
     ]
    },
    {
     "name": "stderr",
     "output_type": "stream",
     "text": [
      " 61%|██████    | 303/500 [9:10:44<6:23:48, 116.89s/it]"
     ]
    },
    {
     "name": "stdout",
     "output_type": "stream",
     "text": [
      "Episode: 303/500, Score: 1.10, Game Score: -5.0, Avg Score: 12.97, Epsilon: 0.050, Steps: 62, Best Score: 130.50\n"
     ]
    },
    {
     "name": "stderr",
     "output_type": "stream",
     "text": [
      " 61%|██████    | 304/500 [9:11:29<5:11:21, 95.32s/it] "
     ]
    },
    {
     "name": "stdout",
     "output_type": "stream",
     "text": [
      "Episode: 304/500, Score: -3.10, Game Score: -5.0, Avg Score: 12.58, Epsilon: 0.050, Steps: 20, Best Score: 130.50\n"
     ]
    },
    {
     "name": "stderr",
     "output_type": "stream",
     "text": [
      " 61%|██████    | 305/500 [9:12:11<4:18:21, 79.50s/it]"
     ]
    },
    {
     "name": "stdout",
     "output_type": "stream",
     "text": [
      "Episode: 305/500, Score: -3.20, Game Score: -5.0, Avg Score: 11.38, Epsilon: 0.050, Steps: 19, Best Score: 130.50\n"
     ]
    },
    {
     "name": "stderr",
     "output_type": "stream",
     "text": [
      " 61%|██████    | 306/500 [9:13:37<4:22:44, 81.26s/it]"
     ]
    },
    {
     "name": "stdout",
     "output_type": "stream",
     "text": [
      "Episode: 306/500, Score: 35.70, Game Score: -5.0, Avg Score: 11.56, Epsilon: 0.050, Steps: 38, Best Score: 130.50\n"
     ]
    },
    {
     "name": "stderr",
     "output_type": "stream",
     "text": [
      " 61%|██████▏   | 307/500 [9:14:20<3:44:24, 69.76s/it]"
     ]
    },
    {
     "name": "stdout",
     "output_type": "stream",
     "text": [
      "Episode: 307/500, Score: -1.70, Game Score: -5.0, Avg Score: 11.55, Epsilon: 0.050, Steps: 19, Best Score: 130.50\n"
     ]
    },
    {
     "name": "stderr",
     "output_type": "stream",
     "text": [
      " 62%|██████▏   | 308/500 [9:15:38<3:51:30, 72.35s/it]"
     ]
    },
    {
     "name": "stdout",
     "output_type": "stream",
     "text": [
      "Episode: 308/500, Score: 3.40, Game Score: -5.0, Avg Score: 11.57, Epsilon: 0.050, Steps: 35, Best Score: 130.50\n"
     ]
    },
    {
     "name": "stderr",
     "output_type": "stream",
     "text": [
      " 62%|██████▏   | 309/500 [9:17:58<4:54:28, 92.51s/it]"
     ]
    },
    {
     "name": "stdout",
     "output_type": "stream",
     "text": [
      "Episode: 309/500, Score: 43.60, Game Score: -5.0, Avg Score: 11.78, Epsilon: 0.050, Steps: 62, Best Score: 130.50\n"
     ]
    },
    {
     "name": "stderr",
     "output_type": "stream",
     "text": [
      " 62%|██████▏   | 310/500 [9:19:30<4:52:27, 92.36s/it]"
     ]
    },
    {
     "name": "stdout",
     "output_type": "stream",
     "text": [
      "Episode: 310/500, Score: -1.00, Game Score: -5.0, Avg Score: 11.44, Epsilon: 0.050, Steps: 41, Best Score: 130.50\n",
      "Episode: 311/500, Score: 1.70, Game Score: -5.0, Avg Score: 11.09, Epsilon: 0.050, Steps: 38, Best Score: 130.50\n"
     ]
    },
    {
     "name": "stderr",
     "output_type": "stream",
     "text": [
      " 62%|██████▏   | 312/500 [9:22:16<4:34:08, 87.49s/it]"
     ]
    },
    {
     "name": "stdout",
     "output_type": "stream",
     "text": [
      "Episode: 312/500, Score: -1.50, Game Score: -5.0, Avg Score: 10.78, Epsilon: 0.050, Steps: 36, Best Score: 130.50\n"
     ]
    },
    {
     "name": "stderr",
     "output_type": "stream",
     "text": [
      " 63%|██████▎   | 313/500 [9:24:17<5:04:06, 97.57s/it]"
     ]
    },
    {
     "name": "stdout",
     "output_type": "stream",
     "text": [
      "Episode: 313/500, Score: 0.30, Game Score: -5.0, Avg Score: 10.52, Epsilon: 0.050, Steps: 54, Best Score: 130.50\n"
     ]
    },
    {
     "name": "stderr",
     "output_type": "stream",
     "text": [
      " 63%|██████▎   | 314/500 [9:26:36<5:41:09, 110.05s/it]"
     ]
    },
    {
     "name": "stdout",
     "output_type": "stream",
     "text": [
      "Episode: 314/500, Score: 5.10, Game Score: -5.0, Avg Score: 10.60, Epsilon: 0.050, Steps: 62, Best Score: 130.50\n"
     ]
    },
    {
     "name": "stderr",
     "output_type": "stream",
     "text": [
      " 63%|██████▎   | 315/500 [9:28:35<5:47:19, 112.64s/it]"
     ]
    },
    {
     "name": "stdout",
     "output_type": "stream",
     "text": [
      "Episode: 315/500, Score: 5.10, Game Score: -5.0, Avg Score: 10.68, Epsilon: 0.050, Steps: 52, Best Score: 130.50\n"
     ]
    },
    {
     "name": "stderr",
     "output_type": "stream",
     "text": [
      " 63%|██████▎   | 316/500 [9:29:19<4:41:42, 91.86s/it] "
     ]
    },
    {
     "name": "stdout",
     "output_type": "stream",
     "text": [
      "Episode: 316/500, Score: -3.20, Game Score: -5.0, Avg Score: 10.67, Epsilon: 0.050, Steps: 19, Best Score: 130.50\n"
     ]
    },
    {
     "name": "stderr",
     "output_type": "stream",
     "text": [
      " 63%|██████▎   | 317/500 [9:30:41<4:31:22, 88.98s/it]"
     ]
    },
    {
     "name": "stdout",
     "output_type": "stream",
     "text": [
      "Episode: 317/500, Score: 18.50, Game Score: -5.0, Avg Score: 10.86, Epsilon: 0.050, Steps: 36, Best Score: 130.50\n"
     ]
    },
    {
     "name": "stderr",
     "output_type": "stream",
     "text": [
      " 64%|██████▎   | 318/500 [9:31:24<3:48:07, 75.21s/it]"
     ]
    },
    {
     "name": "stdout",
     "output_type": "stream",
     "text": [
      "Episode: 318/500, Score: -3.20, Game Score: -5.0, Avg Score: 10.81, Epsilon: 0.050, Steps: 19, Best Score: 130.50\n"
     ]
    },
    {
     "name": "stderr",
     "output_type": "stream",
     "text": [
      " 64%|██████▍   | 319/500 [9:32:07<3:17:47, 65.57s/it]"
     ]
    },
    {
     "name": "stdout",
     "output_type": "stream",
     "text": [
      "Episode: 319/500, Score: -1.20, Game Score: -5.0, Avg Score: 10.74, Epsilon: 0.050, Steps: 19, Best Score: 130.50\n"
     ]
    },
    {
     "name": "stderr",
     "output_type": "stream",
     "text": [
      " 64%|██████▍   | 320/500 [9:34:28<4:24:16, 88.09s/it]"
     ]
    },
    {
     "name": "stdout",
     "output_type": "stream",
     "text": [
      "Episode: 320/500, Score: 1.10, Game Score: -5.0, Avg Score: 10.57, Epsilon: 0.050, Steps: 62, Best Score: 130.50\n",
      "Episode: 321/500, Score: 30.00, Game Score: -5.0, Avg Score: 10.20, Epsilon: 0.050, Steps: 41, Best Score: 130.50\n"
     ]
    },
    {
     "name": "stderr",
     "output_type": "stream",
     "text": [
      " 64%|██████▍   | 322/500 [9:38:26<5:14:46, 106.11s/it]"
     ]
    },
    {
     "name": "stdout",
     "output_type": "stream",
     "text": [
      "Episode: 322/500, Score: 1.10, Game Score: -5.0, Avg Score: 9.89, Epsilon: 0.050, Steps: 62, Best Score: 130.50\n"
     ]
    },
    {
     "name": "stderr",
     "output_type": "stream",
     "text": [
      " 65%|██████▍   | 323/500 [9:39:10<4:18:51, 87.75s/it] "
     ]
    },
    {
     "name": "stdout",
     "output_type": "stream",
     "text": [
      "Episode: 323/500, Score: -3.20, Game Score: -5.0, Avg Score: 9.81, Epsilon: 0.050, Steps: 19, Best Score: 130.50\n"
     ]
    }
   ],
   "source": [
    "if __name__ == \"__main__\":\n",
    "    trained_agent, training_scores = train_agent(n_episodes=500)\n",
    "    if trained_agent is not None:\n",
    "        test_agent(trained_agent, n_episodes=10)"
   ]
  },
  {
   "cell_type": "code",
   "execution_count": null,
   "id": "8dcbd476-5f9b-4c22-a348-58f5dfb14258",
   "metadata": {},
   "outputs": [],
   "source": []
  }
 ],
 "metadata": {
  "kernelspec": {
   "display_name": "Python 3.8 - AzureML",
   "language": "python",
   "name": "python38-azureml"
  },
  "language_info": {
   "codemirror_mode": {
    "name": "ipython",
    "version": 3
   },
   "file_extension": ".py",
   "mimetype": "text/x-python",
   "name": "python",
   "nbconvert_exporter": "python",
   "pygments_lexer": "ipython3",
   "version": "3.10.11"
  }
 },
 "nbformat": 4,
 "nbformat_minor": 5
}
